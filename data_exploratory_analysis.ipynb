{
 "cells": [
  {
   "cell_type": "markdown",
   "metadata": {},
   "source": [
    "# Exploratory data analysis"
   ]
  },
  {
   "cell_type": "markdown",
   "metadata": {},
   "source": [
    "### Module loading"
   ]
  },
  {
   "cell_type": "code",
   "execution_count": 486,
   "metadata": {
    "ExecuteTime": {
     "end_time": "2019-11-26T15:23:20.238977Z",
     "start_time": "2019-11-26T15:23:20.231540Z"
    }
   },
   "outputs": [],
   "source": [
    "import pandas as pd\n",
    "import numpy as np\n",
    "import seaborn as sns\n",
    "import matplotlib.pyplot as plt\n",
    "\n",
    "import re\n",
    "\n",
    "#machine learning models\n",
    "from sklearn.linear_model import LogisticRegression, LogisticRegressionCV\n",
    "\n",
    "from sklearn.model_selection import train_test_split\n",
    "\n",
    "from sklearn.model_selection import KFold\n",
    "from sklearn.metrics import f1_score, confusion_matrix\n",
    "from sklearn import tree, svm\n",
    "from sklearn import preprocessing\n",
    "\n",
    "from sklearn.ensemble import RandomForestClassifier\n",
    "\n",
    "from sklearn.naive_bayes import GaussianNB\n",
    "\n",
    "from sklearn.neural_network import MLPClassifier\n",
    "\n",
    "from sklearn.neighbors import KernelDensity"
   ]
  },
  {
   "cell_type": "markdown",
   "metadata": {},
   "source": [
    "### Ideas"
   ]
  },
  {
   "cell_type": "markdown",
   "metadata": {},
   "source": [
    "* Include a feature that captures if more people were in the cabin for instance"
   ]
  },
  {
   "cell_type": "markdown",
   "metadata": {
    "ExecuteTime": {
     "end_time": "2019-11-18T20:09:33.492100Z",
     "start_time": "2019-11-18T20:09:33.489645Z"
    }
   },
   "source": [
    "## Data loading"
   ]
  },
  {
   "cell_type": "code",
   "execution_count": 378,
   "metadata": {
    "ExecuteTime": {
     "end_time": "2019-11-26T14:13:47.755095Z",
     "start_time": "2019-11-26T14:13:47.629744Z"
    }
   },
   "outputs": [],
   "source": [
    "whole_data = pd.read_csv(\"raw_data/train.csv\")"
   ]
  },
  {
   "cell_type": "code",
   "execution_count": 379,
   "metadata": {
    "ExecuteTime": {
     "end_time": "2019-11-26T14:13:47.883670Z",
     "start_time": "2019-11-26T14:13:47.756548Z"
    },
    "scrolled": true
   },
   "outputs": [
    {
     "data": {
      "text/html": [
       "<div>\n",
       "<style scoped>\n",
       "    .dataframe tbody tr th:only-of-type {\n",
       "        vertical-align: middle;\n",
       "    }\n",
       "\n",
       "    .dataframe tbody tr th {\n",
       "        vertical-align: top;\n",
       "    }\n",
       "\n",
       "    .dataframe thead th {\n",
       "        text-align: right;\n",
       "    }\n",
       "</style>\n",
       "<table border=\"1\" class=\"dataframe\">\n",
       "  <thead>\n",
       "    <tr style=\"text-align: right;\">\n",
       "      <th></th>\n",
       "      <th>PassengerId</th>\n",
       "      <th>Survived</th>\n",
       "      <th>Pclass</th>\n",
       "      <th>Name</th>\n",
       "      <th>Sex</th>\n",
       "      <th>Age</th>\n",
       "      <th>SibSp</th>\n",
       "      <th>Parch</th>\n",
       "      <th>Ticket</th>\n",
       "      <th>Fare</th>\n",
       "      <th>Cabin</th>\n",
       "      <th>Embarked</th>\n",
       "    </tr>\n",
       "  </thead>\n",
       "  <tbody>\n",
       "    <tr>\n",
       "      <td>0</td>\n",
       "      <td>1</td>\n",
       "      <td>0</td>\n",
       "      <td>3</td>\n",
       "      <td>Braund, Mr. Owen Harris</td>\n",
       "      <td>male</td>\n",
       "      <td>22.0</td>\n",
       "      <td>1</td>\n",
       "      <td>0</td>\n",
       "      <td>A/5 21171</td>\n",
       "      <td>7.2500</td>\n",
       "      <td>NaN</td>\n",
       "      <td>S</td>\n",
       "    </tr>\n",
       "    <tr>\n",
       "      <td>1</td>\n",
       "      <td>2</td>\n",
       "      <td>1</td>\n",
       "      <td>1</td>\n",
       "      <td>Cumings, Mrs. John Bradley (Florence Briggs Th...</td>\n",
       "      <td>female</td>\n",
       "      <td>38.0</td>\n",
       "      <td>1</td>\n",
       "      <td>0</td>\n",
       "      <td>PC 17599</td>\n",
       "      <td>71.2833</td>\n",
       "      <td>C85</td>\n",
       "      <td>C</td>\n",
       "    </tr>\n",
       "    <tr>\n",
       "      <td>2</td>\n",
       "      <td>3</td>\n",
       "      <td>1</td>\n",
       "      <td>3</td>\n",
       "      <td>Heikkinen, Miss. Laina</td>\n",
       "      <td>female</td>\n",
       "      <td>26.0</td>\n",
       "      <td>0</td>\n",
       "      <td>0</td>\n",
       "      <td>STON/O2. 3101282</td>\n",
       "      <td>7.9250</td>\n",
       "      <td>NaN</td>\n",
       "      <td>S</td>\n",
       "    </tr>\n",
       "    <tr>\n",
       "      <td>3</td>\n",
       "      <td>4</td>\n",
       "      <td>1</td>\n",
       "      <td>1</td>\n",
       "      <td>Futrelle, Mrs. Jacques Heath (Lily May Peel)</td>\n",
       "      <td>female</td>\n",
       "      <td>35.0</td>\n",
       "      <td>1</td>\n",
       "      <td>0</td>\n",
       "      <td>113803</td>\n",
       "      <td>53.1000</td>\n",
       "      <td>C123</td>\n",
       "      <td>S</td>\n",
       "    </tr>\n",
       "    <tr>\n",
       "      <td>4</td>\n",
       "      <td>5</td>\n",
       "      <td>0</td>\n",
       "      <td>3</td>\n",
       "      <td>Allen, Mr. William Henry</td>\n",
       "      <td>male</td>\n",
       "      <td>35.0</td>\n",
       "      <td>0</td>\n",
       "      <td>0</td>\n",
       "      <td>373450</td>\n",
       "      <td>8.0500</td>\n",
       "      <td>NaN</td>\n",
       "      <td>S</td>\n",
       "    </tr>\n",
       "  </tbody>\n",
       "</table>\n",
       "</div>"
      ],
      "text/plain": [
       "   PassengerId  Survived  Pclass  \\\n",
       "0            1         0       3   \n",
       "1            2         1       1   \n",
       "2            3         1       3   \n",
       "3            4         1       1   \n",
       "4            5         0       3   \n",
       "\n",
       "                                                Name     Sex   Age  SibSp  \\\n",
       "0                            Braund, Mr. Owen Harris    male  22.0      1   \n",
       "1  Cumings, Mrs. John Bradley (Florence Briggs Th...  female  38.0      1   \n",
       "2                             Heikkinen, Miss. Laina  female  26.0      0   \n",
       "3       Futrelle, Mrs. Jacques Heath (Lily May Peel)  female  35.0      1   \n",
       "4                           Allen, Mr. William Henry    male  35.0      0   \n",
       "\n",
       "   Parch            Ticket     Fare Cabin Embarked  \n",
       "0      0         A/5 21171   7.2500   NaN        S  \n",
       "1      0          PC 17599  71.2833   C85        C  \n",
       "2      0  STON/O2. 3101282   7.9250   NaN        S  \n",
       "3      0            113803  53.1000  C123        S  \n",
       "4      0            373450   8.0500   NaN        S  "
      ]
     },
     "execution_count": 379,
     "metadata": {},
     "output_type": "execute_result"
    }
   ],
   "source": [
    "whole_data.head()"
   ]
  },
  {
   "cell_type": "markdown",
   "metadata": {},
   "source": [
    "## Create holdout set"
   ]
  },
  {
   "cell_type": "code",
   "execution_count": 380,
   "metadata": {
    "ExecuteTime": {
     "end_time": "2019-11-26T14:13:47.987286Z",
     "start_time": "2019-11-26T14:13:47.885593Z"
    }
   },
   "outputs": [],
   "source": [
    "data, holdout = train_test_split(whole_data, test_size=0.2, random_state = 42)"
   ]
  },
  {
   "cell_type": "code",
   "execution_count": 381,
   "metadata": {
    "ExecuteTime": {
     "end_time": "2019-11-26T14:13:48.108565Z",
     "start_time": "2019-11-26T14:13:47.988891Z"
    }
   },
   "outputs": [
    {
     "data": {
      "text/html": [
       "<div>\n",
       "<style scoped>\n",
       "    .dataframe tbody tr th:only-of-type {\n",
       "        vertical-align: middle;\n",
       "    }\n",
       "\n",
       "    .dataframe tbody tr th {\n",
       "        vertical-align: top;\n",
       "    }\n",
       "\n",
       "    .dataframe thead th {\n",
       "        text-align: right;\n",
       "    }\n",
       "</style>\n",
       "<table border=\"1\" class=\"dataframe\">\n",
       "  <thead>\n",
       "    <tr style=\"text-align: right;\">\n",
       "      <th></th>\n",
       "      <th>PassengerId</th>\n",
       "      <th>Survived</th>\n",
       "      <th>Pclass</th>\n",
       "      <th>Name</th>\n",
       "      <th>Sex</th>\n",
       "      <th>Age</th>\n",
       "      <th>SibSp</th>\n",
       "      <th>Parch</th>\n",
       "      <th>Ticket</th>\n",
       "      <th>Fare</th>\n",
       "      <th>Cabin</th>\n",
       "      <th>Embarked</th>\n",
       "    </tr>\n",
       "  </thead>\n",
       "  <tbody>\n",
       "    <tr>\n",
       "      <td>331</td>\n",
       "      <td>332</td>\n",
       "      <td>0</td>\n",
       "      <td>1</td>\n",
       "      <td>Partner, Mr. Austen</td>\n",
       "      <td>male</td>\n",
       "      <td>45.5</td>\n",
       "      <td>0</td>\n",
       "      <td>0</td>\n",
       "      <td>113043</td>\n",
       "      <td>28.5000</td>\n",
       "      <td>C124</td>\n",
       "      <td>S</td>\n",
       "    </tr>\n",
       "    <tr>\n",
       "      <td>733</td>\n",
       "      <td>734</td>\n",
       "      <td>0</td>\n",
       "      <td>2</td>\n",
       "      <td>Berriman, Mr. William John</td>\n",
       "      <td>male</td>\n",
       "      <td>23.0</td>\n",
       "      <td>0</td>\n",
       "      <td>0</td>\n",
       "      <td>28425</td>\n",
       "      <td>13.0000</td>\n",
       "      <td>NaN</td>\n",
       "      <td>S</td>\n",
       "    </tr>\n",
       "    <tr>\n",
       "      <td>382</td>\n",
       "      <td>383</td>\n",
       "      <td>0</td>\n",
       "      <td>3</td>\n",
       "      <td>Tikkanen, Mr. Juho</td>\n",
       "      <td>male</td>\n",
       "      <td>32.0</td>\n",
       "      <td>0</td>\n",
       "      <td>0</td>\n",
       "      <td>STON/O 2. 3101293</td>\n",
       "      <td>7.9250</td>\n",
       "      <td>NaN</td>\n",
       "      <td>S</td>\n",
       "    </tr>\n",
       "    <tr>\n",
       "      <td>704</td>\n",
       "      <td>705</td>\n",
       "      <td>0</td>\n",
       "      <td>3</td>\n",
       "      <td>Hansen, Mr. Henrik Juul</td>\n",
       "      <td>male</td>\n",
       "      <td>26.0</td>\n",
       "      <td>1</td>\n",
       "      <td>0</td>\n",
       "      <td>350025</td>\n",
       "      <td>7.8542</td>\n",
       "      <td>NaN</td>\n",
       "      <td>S</td>\n",
       "    </tr>\n",
       "    <tr>\n",
       "      <td>813</td>\n",
       "      <td>814</td>\n",
       "      <td>0</td>\n",
       "      <td>3</td>\n",
       "      <td>Andersson, Miss. Ebba Iris Alfrida</td>\n",
       "      <td>female</td>\n",
       "      <td>6.0</td>\n",
       "      <td>4</td>\n",
       "      <td>2</td>\n",
       "      <td>347082</td>\n",
       "      <td>31.2750</td>\n",
       "      <td>NaN</td>\n",
       "      <td>S</td>\n",
       "    </tr>\n",
       "  </tbody>\n",
       "</table>\n",
       "</div>"
      ],
      "text/plain": [
       "     PassengerId  Survived  Pclass                                Name  \\\n",
       "331          332         0       1                 Partner, Mr. Austen   \n",
       "733          734         0       2          Berriman, Mr. William John   \n",
       "382          383         0       3                  Tikkanen, Mr. Juho   \n",
       "704          705         0       3             Hansen, Mr. Henrik Juul   \n",
       "813          814         0       3  Andersson, Miss. Ebba Iris Alfrida   \n",
       "\n",
       "        Sex   Age  SibSp  Parch             Ticket     Fare Cabin Embarked  \n",
       "331    male  45.5      0      0             113043  28.5000  C124        S  \n",
       "733    male  23.0      0      0              28425  13.0000   NaN        S  \n",
       "382    male  32.0      0      0  STON/O 2. 3101293   7.9250   NaN        S  \n",
       "704    male  26.0      1      0             350025   7.8542   NaN        S  \n",
       "813  female   6.0      4      2             347082  31.2750   NaN        S  "
      ]
     },
     "execution_count": 381,
     "metadata": {},
     "output_type": "execute_result"
    }
   ],
   "source": [
    "data.head()"
   ]
  },
  {
   "cell_type": "markdown",
   "metadata": {
    "ExecuteTime": {
     "end_time": "2019-11-20T18:45:08.832234Z",
     "start_time": "2019-11-20T18:45:08.814557Z"
    }
   },
   "source": [
    "## Feature analysis"
   ]
  },
  {
   "cell_type": "markdown",
   "metadata": {
    "ExecuteTime": {
     "end_time": "2019-11-21T21:44:54.218474Z",
     "start_time": "2019-11-21T21:44:54.201641Z"
    }
   },
   "source": [
    "First, lets look at the initial features"
   ]
  },
  {
   "cell_type": "markdown",
   "metadata": {},
   "source": [
    "### Passenger ID"
   ]
  },
  {
   "cell_type": "code",
   "execution_count": 382,
   "metadata": {
    "ExecuteTime": {
     "end_time": "2019-11-26T14:13:48.210172Z",
     "start_time": "2019-11-26T14:13:48.110151Z"
    }
   },
   "outputs": [
    {
     "data": {
      "text/plain": [
       "count    712.000000\n",
       "mean     448.234551\n",
       "std      256.731423\n",
       "min        1.000000\n",
       "25%      224.750000\n",
       "50%      453.500000\n",
       "75%      673.500000\n",
       "max      891.000000\n",
       "Name: PassengerId, dtype: float64"
      ]
     },
     "execution_count": 382,
     "metadata": {},
     "output_type": "execute_result"
    }
   ],
   "source": [
    "data.PassengerId.describe()"
   ]
  },
  {
   "cell_type": "code",
   "execution_count": 383,
   "metadata": {
    "ExecuteTime": {
     "end_time": "2019-11-26T14:13:48.297215Z",
     "start_time": "2019-11-26T14:13:48.211882Z"
    }
   },
   "outputs": [
    {
     "name": "stderr",
     "output_type": "stream",
     "text": [
      "/home/adri/anaconda3/lib/python3.7/site-packages/pandas/core/generic.py:5208: SettingWithCopyWarning: \n",
      "A value is trying to be set on a copy of a slice from a DataFrame.\n",
      "Try using .loc[row_indexer,col_indexer] = value instead\n",
      "\n",
      "See the caveats in the documentation: http://pandas.pydata.org/pandas-docs/stable/user_guide/indexing.html#returning-a-view-versus-a-copy\n",
      "  self[name] = value\n"
     ]
    }
   ],
   "source": [
    "data.PassengerId = data.PassengerId.astype(\"category\")"
   ]
  },
  {
   "cell_type": "code",
   "execution_count": 384,
   "metadata": {
    "ExecuteTime": {
     "end_time": "2019-11-26T14:13:48.388316Z",
     "start_time": "2019-11-26T14:13:48.298940Z"
    }
   },
   "outputs": [
    {
     "data": {
      "text/plain": [
       "1    712\n",
       "Name: PassengerId, dtype: int64"
      ]
     },
     "execution_count": 384,
     "metadata": {},
     "output_type": "execute_result"
    }
   ],
   "source": [
    "# Check if all the passengerIds are unique\n",
    "data[\"PassengerId\"].value_counts().value_counts()"
   ]
  },
  {
   "cell_type": "markdown",
   "metadata": {},
   "source": [
    "All passenger Ids are unique."
   ]
  },
  {
   "cell_type": "code",
   "execution_count": 385,
   "metadata": {
    "ExecuteTime": {
     "end_time": "2019-11-26T14:13:48.587076Z",
     "start_time": "2019-11-26T14:13:48.390128Z"
    },
    "scrolled": false
   },
   "outputs": [
    {
     "data": {
      "image/png": "[encoded data removed]",
      "text/plain": [
       "<Figure size 432x288 with 1 Axes>"
      ]
     },
     "metadata": {
      "needs_background": "light"
     },
     "output_type": "display_data"
    }
   ],
   "source": [
    "# Check if there is any relationship between survival and passenger IDs\n",
    "sns.violinplot(x=\"Survived\", y=\"PassengerId\", data=data, orient=\"v\")\n",
    "plt.show()"
   ]
  },
  {
   "cell_type": "code",
   "execution_count": 386,
   "metadata": {
    "ExecuteTime": {
     "end_time": "2019-11-26T14:13:48.740486Z",
     "start_time": "2019-11-26T14:13:48.588859Z"
    }
   },
   "outputs": [
    {
     "data": {
      "image/png": "[encoded data removed]",
      "text/plain": [
       "<Figure size 432x288 with 1 Axes>"
      ]
     },
     "metadata": {
      "needs_background": "light"
     },
     "output_type": "display_data"
    }
   ],
   "source": [
    "sns.distplot(data.PassengerId[data.Survived == 0], hist = False, label = \"Died\")\n",
    "sns.distplot(data.PassengerId[data.Survived == 1], hist = False, label = \"Survived\")\n",
    "plt.show()"
   ]
  },
  {
   "cell_type": "markdown",
   "metadata": {},
   "source": [
    "In general it seems that there is no tendency relating passenger ID with survival"
   ]
  },
  {
   "cell_type": "markdown",
   "metadata": {},
   "source": [
    "### Survived"
   ]
  },
  {
   "cell_type": "code",
   "execution_count": 387,
   "metadata": {
    "ExecuteTime": {
     "end_time": "2019-11-26T14:13:48.746391Z",
     "start_time": "2019-11-26T14:13:48.742239Z"
    }
   },
   "outputs": [],
   "source": [
    "data.Survived = data.Survived.astype(\"category\")"
   ]
  },
  {
   "cell_type": "code",
   "execution_count": 388,
   "metadata": {
    "ExecuteTime": {
     "end_time": "2019-11-26T14:13:48.856832Z",
     "start_time": "2019-11-26T14:13:48.747965Z"
    },
    "scrolled": false
   },
   "outputs": [
    {
     "data": {
      "text/plain": [
       "0    0.623596\n",
       "1    0.376404\n",
       "Name: Survived, dtype: float64"
      ]
     },
     "execution_count": 388,
     "metadata": {},
     "output_type": "execute_result"
    }
   ],
   "source": [
    "data.Survived.value_counts(normalize=True)"
   ]
  },
  {
   "cell_type": "code",
   "execution_count": 389,
   "metadata": {
    "ExecuteTime": {
     "end_time": "2019-11-26T14:13:49.070089Z",
     "start_time": "2019-11-26T14:13:48.858988Z"
    }
   },
   "outputs": [
    {
     "data": {
      "image/png": "[encoded data removed]",
      "text/plain": [
       "<Figure size 360x360 with 1 Axes>"
      ]
     },
     "metadata": {
      "needs_background": "light"
     },
     "output_type": "display_data"
    }
   ],
   "source": [
    "sns.catplot(x=\"Survived\", kind=\"count\", data=data)\n",
    "plt.show()"
   ]
  },
  {
   "cell_type": "markdown",
   "metadata": {},
   "source": [
    "Aproximately a 60% of the passengers died in the titanic and 40% survived. Probably the dataset is balanced enough to not include weights in the model."
   ]
  },
  {
   "cell_type": "markdown",
   "metadata": {},
   "source": [
    "### Pclass"
   ]
  },
  {
   "cell_type": "code",
   "execution_count": 390,
   "metadata": {
    "ExecuteTime": {
     "end_time": "2019-11-26T14:13:49.075254Z",
     "start_time": "2019-11-26T14:13:49.071524Z"
    }
   },
   "outputs": [],
   "source": [
    "data.Pclass = data.Pclass.astype(\"category\")"
   ]
  },
  {
   "cell_type": "code",
   "execution_count": 391,
   "metadata": {
    "ExecuteTime": {
     "end_time": "2019-11-26T14:13:49.179614Z",
     "start_time": "2019-11-26T14:13:49.076544Z"
    }
   },
   "outputs": [
    {
     "data": {
      "text/plain": [
       "3    0.558989\n",
       "1    0.228933\n",
       "2    0.212079\n",
       "Name: Pclass, dtype: float64"
      ]
     },
     "execution_count": 391,
     "metadata": {},
     "output_type": "execute_result"
    }
   ],
   "source": [
    "data.Pclass.value_counts(normalize=True)"
   ]
  },
  {
   "cell_type": "code",
   "execution_count": 392,
   "metadata": {
    "ExecuteTime": {
     "end_time": "2019-11-26T14:13:49.408756Z",
     "start_time": "2019-11-26T14:13:49.182529Z"
    },
    "scrolled": false
   },
   "outputs": [
    {
     "data": {
      "text/plain": [
       "<seaborn.axisgrid.FacetGrid at 0x7f54efeb7b50>"
      ]
     },
     "execution_count": 392,
     "metadata": {},
     "output_type": "execute_result"
    },
    {
     "data": {
      "image/png": "[encoded data removed]",
      "text/plain": [
       "<Figure size 360x360 with 1 Axes>"
      ]
     },
     "metadata": {
      "needs_background": "light"
     },
     "output_type": "display_data"
    }
   ],
   "source": [
    "sns.catplot(\"Pclass\", data = data, kind=\"count\")"
   ]
  },
  {
   "cell_type": "markdown",
   "metadata": {},
   "source": [
    "Passenger class is not balanced, 55% of the people where 3rd class, the rest is similarly balanced between 1st and 2nd class. "
   ]
  },
  {
   "cell_type": "code",
   "execution_count": 393,
   "metadata": {
    "ExecuteTime": {
     "end_time": "2019-11-26T14:13:49.418073Z",
     "start_time": "2019-11-26T14:13:49.410114Z"
    }
   },
   "outputs": [
    {
     "data": {
      "text/plain": [
       "Pclass  Survived\n",
       "1       1           0.607362\n",
       "        0           0.392638\n",
       "2       0           0.516556\n",
       "        1           0.483444\n",
       "3       0           0.758794\n",
       "        1           0.241206\n",
       "Name: Survived, dtype: float64"
      ]
     },
     "execution_count": 393,
     "metadata": {},
     "output_type": "execute_result"
    }
   ],
   "source": [
    "data.groupby(\"Pclass\").Survived.value_counts(normalize=True)"
   ]
  },
  {
   "cell_type": "code",
   "execution_count": 394,
   "metadata": {
    "ExecuteTime": {
     "end_time": "2019-11-26T14:13:49.950143Z",
     "start_time": "2019-11-26T14:13:49.419698Z"
    },
    "scrolled": false
   },
   "outputs": [
    {
     "data": {
      "text/plain": [
       "<seaborn.axisgrid.FacetGrid at 0x7f54efcc9690>"
      ]
     },
     "execution_count": 394,
     "metadata": {},
     "output_type": "execute_result"
    },
    {
     "data": {
      "image/png": "[encoded data removed]",
      "text/plain": [
       "<Figure size 1080x360 with 3 Axes>"
      ]
     },
     "metadata": {
      "needs_background": "light"
     },
     "output_type": "display_data"
    }
   ],
   "source": [
    "sns.catplot(col=\"Pclass\", data = data, x=\"Survived\", kind=\"count\",sharey=False )"
   ]
  },
  {
   "cell_type": "markdown",
   "metadata": {},
   "source": [
    "The frequency of survival is highly dependent on the passenger class. While in 3rd class people had 75% chances of dying, in 2nd it is a 52% and in 1st it is only a 37% chances. Therefore, The higher the class the more chances to survive."
   ]
  },
  {
   "cell_type": "markdown",
   "metadata": {
    "ExecuteTime": {
     "end_time": "2019-11-21T22:05:58.867465Z",
     "start_time": "2019-11-21T22:05:58.843187Z"
    }
   },
   "source": [
    "### Name\n",
    "Although there is some usefull information in the name field we will process this field later in the notebook. First, I will try to set a baseline using the simplest features in the initial dataset. "
   ]
  },
  {
   "cell_type": "markdown",
   "metadata": {},
   "source": [
    "### Sex"
   ]
  },
  {
   "cell_type": "code",
   "execution_count": 395,
   "metadata": {
    "ExecuteTime": {
     "end_time": "2019-11-26T14:13:49.956948Z",
     "start_time": "2019-11-26T14:13:49.953118Z"
    }
   },
   "outputs": [],
   "source": [
    "data.Sex = data.Sex.astype(\"category\")"
   ]
  },
  {
   "cell_type": "code",
   "execution_count": 396,
   "metadata": {
    "ExecuteTime": {
     "end_time": "2019-11-26T14:13:50.068947Z",
     "start_time": "2019-11-26T14:13:49.959062Z"
    }
   },
   "outputs": [
    {
     "data": {
      "text/plain": [
       "male      0.655899\n",
       "female    0.344101\n",
       "Name: Sex, dtype: float64"
      ]
     },
     "execution_count": 396,
     "metadata": {},
     "output_type": "execute_result"
    }
   ],
   "source": [
    "data.Sex.value_counts(normalize=True)"
   ]
  },
  {
   "cell_type": "code",
   "execution_count": 397,
   "metadata": {
    "ExecuteTime": {
     "end_time": "2019-11-26T14:13:50.298671Z",
     "start_time": "2019-11-26T14:13:50.071786Z"
    },
    "scrolled": false
   },
   "outputs": [
    {
     "data": {
      "text/plain": [
       "<seaborn.axisgrid.FacetGrid at 0x7f54efd94810>"
      ]
     },
     "execution_count": 397,
     "metadata": {},
     "output_type": "execute_result"
    },
    {
     "data": {
      "image/png": "[encoded data removed]",
      "text/plain": [
       "<Figure size 360x360 with 1 Axes>"
      ]
     },
     "metadata": {
      "needs_background": "light"
     },
     "output_type": "display_data"
    }
   ],
   "source": [
    "sns.catplot(\"Sex\", data = data, kind=\"count\")"
   ]
  },
  {
   "cell_type": "markdown",
   "metadata": {},
   "source": [
    "Regarding Sex, 64% of the passengers where males."
   ]
  },
  {
   "cell_type": "code",
   "execution_count": 398,
   "metadata": {
    "ExecuteTime": {
     "end_time": "2019-11-26T14:13:50.309555Z",
     "start_time": "2019-11-26T14:13:50.299936Z"
    }
   },
   "outputs": [
    {
     "data": {
      "text/plain": [
       "Sex     Survived\n",
       "female  1           0.738776\n",
       "        0           0.261224\n",
       "male    0           0.813704\n",
       "        1           0.186296\n",
       "Name: Survived, dtype: float64"
      ]
     },
     "execution_count": 398,
     "metadata": {},
     "output_type": "execute_result"
    }
   ],
   "source": [
    "data.groupby(\"Sex\").Survived.value_counts(normalize=True)"
   ]
  },
  {
   "cell_type": "code",
   "execution_count": 399,
   "metadata": {
    "ExecuteTime": {
     "end_time": "2019-11-26T14:13:50.681488Z",
     "start_time": "2019-11-26T14:13:50.311112Z"
    },
    "scrolled": false
   },
   "outputs": [
    {
     "data": {
      "text/plain": [
       "<seaborn.axisgrid.FacetGrid at 0x7f54efbec110>"
      ]
     },
     "execution_count": 399,
     "metadata": {},
     "output_type": "execute_result"
    },
    {
     "data": {
      "image/png": "[encoded data removed]",
      "text/plain": [
       "<Figure size 720x360 with 2 Axes>"
      ]
     },
     "metadata": {
      "needs_background": "light"
     },
     "output_type": "display_data"
    }
   ],
   "source": [
    "sns.catplot(col=\"Sex\", data = data, x=\"Survived\", kind=\"count\", sharey=False )"
   ]
  },
  {
   "cell_type": "markdown",
   "metadata": {},
   "source": [
    "Again, the survival rate is quite different between the two clases. A woman had 74% chances of surviving, while mens had 81% chances of perishing. It seems that class and sex are going to be quite important in predicting survival. Let's see if there is any kind of interaction between the two features. "
   ]
  },
  {
   "cell_type": "code",
   "execution_count": 400,
   "metadata": {
    "ExecuteTime": {
     "end_time": "2019-11-26T14:13:51.180012Z",
     "start_time": "2019-11-26T14:13:50.682780Z"
    },
    "scrolled": true
   },
   "outputs": [
    {
     "data": {
      "text/plain": [
       "<seaborn.axisgrid.FacetGrid at 0x7f54efb02e90>"
      ]
     },
     "execution_count": 400,
     "metadata": {},
     "output_type": "execute_result"
    },
    {
     "data": {
      "image/png": "[encoded data removed]",
      "text/plain": [
       "<Figure size 1131.88x360 with 3 Axes>"
      ]
     },
     "metadata": {
      "needs_background": "light"
     },
     "output_type": "display_data"
    }
   ],
   "source": [
    "sns.catplot(x=\"Sex\",col=\"Pclass\", hue=\"Survived\", kind=\"count\", data = data, sharey=False)"
   ]
  },
  {
   "cell_type": "markdown",
   "metadata": {},
   "source": [
    "It is evident that there is some interaction between the two variables. While being a woman of 1st or 2nd class  practically enures survival, womens of the 3rd class had the same chances of dying than surviving. Regarding men, survival rate is similar between males of 3rd and 2nd class. However, the forecast improves in 1st class men. "
   ]
  },
  {
   "cell_type": "markdown",
   "metadata": {},
   "source": [
    "### Age"
   ]
  },
  {
   "cell_type": "code",
   "execution_count": 401,
   "metadata": {
    "ExecuteTime": {
     "end_time": "2019-11-26T14:13:51.189839Z",
     "start_time": "2019-11-26T14:13:51.181742Z"
    },
    "scrolled": false
   },
   "outputs": [
    {
     "data": {
      "text/plain": [
       "count    572.000000\n",
       "mean      29.498846\n",
       "std       14.500059\n",
       "min        0.420000\n",
       "25%       21.000000\n",
       "50%       28.000000\n",
       "75%       38.000000\n",
       "max       80.000000\n",
       "Name: Age, dtype: float64"
      ]
     },
     "execution_count": 401,
     "metadata": {},
     "output_type": "execute_result"
    }
   ],
   "source": [
    "data.Age.describe()"
   ]
  },
  {
   "cell_type": "markdown",
   "metadata": {},
   "source": [
    "There is 177 (891-714) Passengers without age information. Mmaybe we can try to inputate the age based on closest neightbours. "
   ]
  },
  {
   "cell_type": "code",
   "execution_count": 402,
   "metadata": {
    "ExecuteTime": {
     "end_time": "2019-11-26T14:13:51.313927Z",
     "start_time": "2019-11-26T14:13:51.191385Z"
    }
   },
   "outputs": [
    {
     "data": {
      "text/plain": [
       "305    0.92\n",
       "644    0.75\n",
       "469    0.75\n",
       "803    0.42\n",
       "755    0.67\n",
       "831    0.83\n",
       "Name: Age, dtype: float64"
      ]
     },
     "execution_count": 402,
     "metadata": {},
     "output_type": "execute_result"
    }
   ],
   "source": [
    "data.Age[data.Age < 1]"
   ]
  },
  {
   "cell_type": "code",
   "execution_count": 403,
   "metadata": {
    "ExecuteTime": {
     "end_time": "2019-11-26T14:13:51.597219Z",
     "start_time": "2019-11-26T14:13:51.316264Z"
    },
    "scrolled": true
   },
   "outputs": [
    {
     "data": {
      "text/plain": [
       "<matplotlib.axes._subplots.AxesSubplot at 0x7f54efa366d0>"
      ]
     },
     "execution_count": 403,
     "metadata": {},
     "output_type": "execute_result"
    },
    {
     "data": {
      "image/png": "[encoded data removed]",
      "text/plain": [
       "<Figure size 432x288 with 1 Axes>"
      ]
     },
     "metadata": {
      "needs_background": "light"
     },
     "output_type": "display_data"
    }
   ],
   "source": [
    "sns.distplot(data.Age.dropna())"
   ]
  },
  {
   "cell_type": "code",
   "execution_count": 404,
   "metadata": {
    "ExecuteTime": {
     "end_time": "2019-11-26T14:13:51.714992Z",
     "start_time": "2019-11-26T14:13:51.598903Z"
    },
    "scrolled": false
   },
   "outputs": [
    {
     "data": {
      "text/plain": [
       "<matplotlib.axes._subplots.AxesSubplot at 0x7f54efb212d0>"
      ]
     },
     "execution_count": 404,
     "metadata": {},
     "output_type": "execute_result"
    },
    {
     "data": {
      "image/png": "[encoded data removed]",
      "text/plain": [
       "<Figure size 432x288 with 1 Axes>"
      ]
     },
     "metadata": {
      "needs_background": "light"
     },
     "output_type": "display_data"
    }
   ],
   "source": [
    "sns.boxplot(\"Age\", data = data)"
   ]
  },
  {
   "cell_type": "code",
   "execution_count": 405,
   "metadata": {
    "ExecuteTime": {
     "end_time": "2019-11-26T14:13:51.832233Z",
     "start_time": "2019-11-26T14:13:51.716364Z"
    }
   },
   "outputs": [
    {
     "data": {
      "text/plain": [
       "<matplotlib.axes._subplots.AxesSubplot at 0x7f54ef8f8610>"
      ]
     },
     "execution_count": 405,
     "metadata": {},
     "output_type": "execute_result"
    },
    {
     "data": {
      "image/png": "[encoded data removed]",
      "text/plain": [
       "<Figure size 432x288 with 1 Axes>"
      ]
     },
     "metadata": {
      "needs_background": "light"
     },
     "output_type": "display_data"
    }
   ],
   "source": [
    "sns.violinplot(\"Age\", data = data)"
   ]
  },
  {
   "cell_type": "markdown",
   "metadata": {},
   "source": [
    "The distribution of age has a bell shape squed to the right. Also there is a small peak of frequency in babies that do not follow this bellshape. Some of the passengers fall out of the IQR, They are probably good candidates for outliers removal. "
   ]
  },
  {
   "cell_type": "code",
   "execution_count": 406,
   "metadata": {
    "ExecuteTime": {
     "end_time": "2019-11-26T14:13:52.093383Z",
     "start_time": "2019-11-26T14:13:51.833483Z"
    }
   },
   "outputs": [
    {
     "data": {
      "text/plain": [
       "<matplotlib.legend.Legend at 0x7f54ef811e90>"
      ]
     },
     "execution_count": 406,
     "metadata": {},
     "output_type": "execute_result"
    },
    {
     "data": {
      "image/png": "[encoded data removed]",
      "text/plain": [
       "<Figure size 432x288 with 1 Axes>"
      ]
     },
     "metadata": {
      "needs_background": "light"
     },
     "output_type": "display_data"
    }
   ],
   "source": [
    "bins=np.histogram(data.Age.dropna(), bins=20)[1] #get the bin edges\n",
    "\n",
    "sns.distplot(data.Age[data.Survived == 0].dropna(), kde = False, label=\"died\", bins=bins)\n",
    "sns.distplot(data.Age[data.Survived == 1].dropna(), kde = False, label=\"survived\", bins=bins)\n",
    "plt.legend()"
   ]
  },
  {
   "cell_type": "markdown",
   "metadata": {},
   "source": [
    "By looking at the distribution of Age between survivors and non-survivors it seems that Age is also important in terms of survival. Kids from 0 to 5 years are the ones with more chance of surviving. Old people from 65 to 75 have less chances of survival, however, low numbers in this range makes this data of less informative. After this group, people between 15 and 30 have more chances of diying. The rest of people have slightly more chances of dying but being close to 50-50 situation"
   ]
  },
  {
   "cell_type": "markdown",
   "metadata": {},
   "source": [
    "### SibSp"
   ]
  },
  {
   "cell_type": "code",
   "execution_count": 407,
   "metadata": {
    "ExecuteTime": {
     "end_time": "2019-11-26T14:13:52.106916Z",
     "start_time": "2019-11-26T14:13:52.095094Z"
    },
    "scrolled": true
   },
   "outputs": [
    {
     "data": {
      "text/plain": [
       "count    712.000000\n",
       "mean       0.553371\n",
       "std        1.176404\n",
       "min        0.000000\n",
       "25%        0.000000\n",
       "50%        0.000000\n",
       "75%        1.000000\n",
       "max        8.000000\n",
       "Name: SibSp, dtype: float64"
      ]
     },
     "execution_count": 407,
     "metadata": {},
     "output_type": "execute_result"
    }
   ],
   "source": [
    "data.SibSp.describe()"
   ]
  },
  {
   "cell_type": "code",
   "execution_count": 408,
   "metadata": {
    "ExecuteTime": {
     "end_time": "2019-11-26T14:13:52.210585Z",
     "start_time": "2019-11-26T14:13:52.109647Z"
    }
   },
   "outputs": [
    {
     "data": {
      "text/plain": [
       "0    484\n",
       "1    164\n",
       "2     23\n",
       "4     16\n",
       "3     13\n",
       "8      7\n",
       "5      5\n",
       "Name: SibSp, dtype: int64"
      ]
     },
     "execution_count": 408,
     "metadata": {},
     "output_type": "execute_result"
    }
   ],
   "source": [
    "data.SibSp.value_counts()"
   ]
  },
  {
   "cell_type": "code",
   "execution_count": 409,
   "metadata": {
    "ExecuteTime": {
     "end_time": "2019-11-26T14:13:52.468015Z",
     "start_time": "2019-11-26T14:13:52.212058Z"
    }
   },
   "outputs": [
    {
     "data": {
      "text/plain": [
       "<seaborn.axisgrid.FacetGrid at 0x7f54ef7aef50>"
      ]
     },
     "execution_count": 409,
     "metadata": {},
     "output_type": "execute_result"
    },
    {
     "data": {
      "image/png": "[encoded data removed]",
      "text/plain": [
       "<Figure size 360x360 with 1 Axes>"
      ]
     },
     "metadata": {
      "needs_background": "light"
     },
     "output_type": "display_data"
    }
   ],
   "source": [
    "sns.catplot(\"SibSp\", kind=\"count\", data=data)"
   ]
  },
  {
   "cell_type": "markdown",
   "metadata": {},
   "source": [
    "Almost all the people have either 0 or 1 sibling or spoutse on board. Only a few people had 2 or more. This low numbers could add some noice to our model. We could consider bucketizing categoires from 2 to 8 in a single one in order to capture common features between this group with some statistical confidence."
   ]
  },
  {
   "cell_type": "code",
   "execution_count": 410,
   "metadata": {
    "ExecuteTime": {
     "end_time": "2019-11-26T14:13:52.478041Z",
     "start_time": "2019-11-26T14:13:52.469668Z"
    }
   },
   "outputs": [
    {
     "data": {
      "text/plain": [
       "SibSp  Survived\n",
       "0      0           0.654959\n",
       "       1           0.345041\n",
       "1      1           0.506098\n",
       "       0           0.493902\n",
       "2      0           0.521739\n",
       "       1           0.478261\n",
       "3      0           0.692308\n",
       "       1           0.307692\n",
       "4      0           0.812500\n",
       "       1           0.187500\n",
       "5      0           1.000000\n",
       "8      0           1.000000\n",
       "Name: Survived, dtype: float64"
      ]
     },
     "execution_count": 410,
     "metadata": {},
     "output_type": "execute_result"
    }
   ],
   "source": [
    "data.groupby(\"SibSp\")[\"Survived\"].value_counts(normalize=True)"
   ]
  },
  {
   "cell_type": "code",
   "execution_count": 411,
   "metadata": {
    "ExecuteTime": {
     "end_time": "2019-11-26T14:13:53.488612Z",
     "start_time": "2019-11-26T14:13:52.479609Z"
    },
    "scrolled": false
   },
   "outputs": [
    {
     "data": {
      "text/plain": [
       "<seaborn.axisgrid.FacetGrid at 0x7f54ef71e750>"
      ]
     },
     "execution_count": 411,
     "metadata": {},
     "output_type": "execute_result"
    },
    {
     "data": {
      "image/png": "[encoded data removed]",
      "text/plain": [
       "<Figure size 1440x720 with 7 Axes>"
      ]
     },
     "metadata": {
      "needs_background": "light"
     },
     "output_type": "display_data"
    }
   ],
   "source": [
    "sns.catplot(\"Survived\", kind=\"count\",col=\"SibSp\",col_wrap=4, sharey = False, data=data)"
   ]
  },
  {
   "cell_type": "markdown",
   "metadata": {
    "ExecuteTime": {
     "end_time": "2019-11-21T23:07:53.528854Z",
     "start_time": "2019-11-21T23:07:53.519257Z"
    }
   },
   "source": [
    "It seems that having 1 or 2 spouse and or siblings increse survival chances in comparison with other groups. All the people with 5 or more spouse+siblings died, however lets keep in mind the low N of this groups. for the other groups survival rates range from 16 in the case of 4% sibsp to 34% in the case of 0"
   ]
  },
  {
   "cell_type": "markdown",
   "metadata": {},
   "source": [
    "### Parch"
   ]
  },
  {
   "cell_type": "markdown",
   "metadata": {},
   "source": [
    "Parch correspond to the number of parents and or children that a passenger had onboard. I am going to treat is as a categorical variable"
   ]
  },
  {
   "cell_type": "code",
   "execution_count": 412,
   "metadata": {
    "ExecuteTime": {
     "end_time": "2019-11-26T14:13:53.502596Z",
     "start_time": "2019-11-26T14:13:53.490350Z"
    }
   },
   "outputs": [
    {
     "data": {
      "text/html": [
       "<div>\n",
       "<style scoped>\n",
       "    .dataframe tbody tr th:only-of-type {\n",
       "        vertical-align: middle;\n",
       "    }\n",
       "\n",
       "    .dataframe tbody tr th {\n",
       "        vertical-align: top;\n",
       "    }\n",
       "\n",
       "    .dataframe thead th {\n",
       "        text-align: right;\n",
       "    }\n",
       "</style>\n",
       "<table border=\"1\" class=\"dataframe\">\n",
       "  <thead>\n",
       "    <tr style=\"text-align: right;\">\n",
       "      <th></th>\n",
       "      <th>Parch</th>\n",
       "      <th>Parch</th>\n",
       "    </tr>\n",
       "  </thead>\n",
       "  <tbody>\n",
       "    <tr>\n",
       "      <td>0</td>\n",
       "      <td>541</td>\n",
       "      <td>75.983146</td>\n",
       "    </tr>\n",
       "    <tr>\n",
       "      <td>1</td>\n",
       "      <td>94</td>\n",
       "      <td>13.202247</td>\n",
       "    </tr>\n",
       "    <tr>\n",
       "      <td>2</td>\n",
       "      <td>67</td>\n",
       "      <td>9.410112</td>\n",
       "    </tr>\n",
       "    <tr>\n",
       "      <td>5</td>\n",
       "      <td>3</td>\n",
       "      <td>0.421348</td>\n",
       "    </tr>\n",
       "    <tr>\n",
       "      <td>4</td>\n",
       "      <td>3</td>\n",
       "      <td>0.421348</td>\n",
       "    </tr>\n",
       "    <tr>\n",
       "      <td>3</td>\n",
       "      <td>3</td>\n",
       "      <td>0.421348</td>\n",
       "    </tr>\n",
       "    <tr>\n",
       "      <td>6</td>\n",
       "      <td>1</td>\n",
       "      <td>0.140449</td>\n",
       "    </tr>\n",
       "  </tbody>\n",
       "</table>\n",
       "</div>"
      ],
      "text/plain": [
       "   Parch      Parch\n",
       "0    541  75.983146\n",
       "1     94  13.202247\n",
       "2     67   9.410112\n",
       "5      3   0.421348\n",
       "4      3   0.421348\n",
       "3      3   0.421348\n",
       "6      1   0.140449"
      ]
     },
     "execution_count": 412,
     "metadata": {},
     "output_type": "execute_result"
    }
   ],
   "source": [
    "pd.concat([data.Parch.value_counts(), data.Parch.value_counts(\n",
    "    normalize=True)*100], axis=1)"
   ]
  },
  {
   "cell_type": "code",
   "execution_count": 413,
   "metadata": {
    "ExecuteTime": {
     "end_time": "2019-11-26T14:13:53.812413Z",
     "start_time": "2019-11-26T14:13:53.503869Z"
    },
    "scrolled": false
   },
   "outputs": [
    {
     "data": {
      "text/plain": [
       "<seaborn.axisgrid.FacetGrid at 0x7f54ef50c910>"
      ]
     },
     "execution_count": 413,
     "metadata": {},
     "output_type": "execute_result"
    },
    {
     "data": {
      "image/png": "[encoded data removed]",
      "text/plain": [
       "<Figure size 360x360 with 1 Axes>"
      ]
     },
     "metadata": {
      "needs_background": "light"
     },
     "output_type": "display_data"
    }
   ],
   "source": [
    "sns.catplot(\"Parch\", kind=\"count\", data=data)"
   ]
  },
  {
   "cell_type": "markdown",
   "metadata": {},
   "source": [
    "Almost all the people, have from 0 to 2 first degree familiars in the titanic. From those, the biggest group is the people without any pared or offspring with a 76% of the passengers in this group. "
   ]
  },
  {
   "cell_type": "code",
   "execution_count": 414,
   "metadata": {
    "ExecuteTime": {
     "end_time": "2019-11-26T14:13:54.740282Z",
     "start_time": "2019-11-26T14:13:53.814162Z"
    },
    "scrolled": false
   },
   "outputs": [
    {
     "data": {
      "text/plain": [
       "<seaborn.axisgrid.FacetGrid at 0x7f54ef3cd6d0>"
      ]
     },
     "execution_count": 414,
     "metadata": {},
     "output_type": "execute_result"
    },
    {
     "data": {
      "image/png": "[encoded data removed]",
      "text/plain": [
       "<Figure size 1440x720 with 7 Axes>"
      ]
     },
     "metadata": {
      "needs_background": "light"
     },
     "output_type": "display_data"
    }
   ],
   "source": [
    "sns.catplot(col=\"Parch\", kind=\"count\", data=data, x=\"Survived\", sharey=False, col_wrap=4)"
   ]
  },
  {
   "cell_type": "markdown",
   "metadata": {},
   "source": [
    "keeping in mind that the frequncies for people with 3 or more parents or children are not trustable, due to low numbers, it seems that having 1 or two familiars of that kind is quite beneficial for survival. Probably it should be considered to remove the minoritary clases to reduce noise in the dataset. "
   ]
  },
  {
   "cell_type": "markdown",
   "metadata": {},
   "source": [
    "### Ticket\n",
    "For the same reason than the name, I will leave ticket for later"
   ]
  },
  {
   "cell_type": "markdown",
   "metadata": {},
   "source": [
    "### Fare\n",
    "Probably, Fare will be quite correlated to class. Therefore we may want to keep only one of the two features for modeling"
   ]
  },
  {
   "cell_type": "code",
   "execution_count": 415,
   "metadata": {
    "ExecuteTime": {
     "end_time": "2019-11-26T14:13:54.750172Z",
     "start_time": "2019-11-26T14:13:54.741995Z"
    },
    "scrolled": false
   },
   "outputs": [
    {
     "data": {
      "text/plain": [
       "count    712.000000\n",
       "mean      32.586276\n",
       "std       51.969529\n",
       "min        0.000000\n",
       "25%        7.925000\n",
       "50%       14.454200\n",
       "75%       30.500000\n",
       "max      512.329200\n",
       "Name: Fare, dtype: float64"
      ]
     },
     "execution_count": 415,
     "metadata": {},
     "output_type": "execute_result"
    }
   ],
   "source": [
    "data.Fare.describe()"
   ]
  },
  {
   "cell_type": "markdown",
   "metadata": {},
   "source": [
    "There is no Nan in this feature, however, the minimal value is 0. This can be due to represent not available data as 0 and for the members of the crew."
   ]
  },
  {
   "cell_type": "code",
   "execution_count": 416,
   "metadata": {
    "ExecuteTime": {
     "end_time": "2019-11-26T14:13:55.165927Z",
     "start_time": "2019-11-26T14:13:54.751938Z"
    },
    "scrolled": false
   },
   "outputs": [
    {
     "data": {
      "text/plain": [
       "<matplotlib.axes._subplots.AxesSubplot at 0x7f54ef11bf10>"
      ]
     },
     "execution_count": 416,
     "metadata": {},
     "output_type": "execute_result"
    },
    {
     "data": {
      "image/png": "[encoded data removed]",
      "text/plain": [
       "<Figure size 1440x720 with 1 Axes>"
      ]
     },
     "metadata": {
      "needs_background": "light"
     },
     "output_type": "display_data"
    }
   ],
   "source": [
    "fig, ax = plt.subplots(figsize=(20,10))\n",
    "sns.distplot(data.Fare)"
   ]
  },
  {
   "cell_type": "code",
   "execution_count": 417,
   "metadata": {
    "ExecuteTime": {
     "end_time": "2019-11-26T14:13:55.288587Z",
     "start_time": "2019-11-26T14:13:55.167525Z"
    },
    "scrolled": false
   },
   "outputs": [
    {
     "data": {
      "text/plain": [
       "<matplotlib.axes._subplots.AxesSubplot at 0x7f54ef0171d0>"
      ]
     },
     "execution_count": 417,
     "metadata": {},
     "output_type": "execute_result"
    },
    {
     "data": {
      "image/png": "[encoded data removed]",
      "text/plain": [
       "<Figure size 432x288 with 1 Axes>"
      ]
     },
     "metadata": {
      "needs_background": "light"
     },
     "output_type": "display_data"
    }
   ],
   "source": [
    "sns.boxplot(\"Fare\", data = data)"
   ]
  },
  {
   "cell_type": "code",
   "execution_count": 418,
   "metadata": {
    "ExecuteTime": {
     "end_time": "2019-11-26T14:13:55.424536Z",
     "start_time": "2019-11-26T14:13:55.290269Z"
    }
   },
   "outputs": [
    {
     "data": {
      "text/plain": [
       "<matplotlib.axes._subplots.AxesSubplot at 0x7f54ef017d10>"
      ]
     },
     "execution_count": 418,
     "metadata": {},
     "output_type": "execute_result"
    },
    {
     "data": {
      "image/png": "[encoded data removed]",
      "text/plain": [
       "<Figure size 432x288 with 1 Axes>"
      ]
     },
     "metadata": {
      "needs_background": "light"
     },
     "output_type": "display_data"
    }
   ],
   "source": [
    "sns.violinplot(\"Fare\", data = data)"
   ]
  },
  {
   "cell_type": "markdown",
   "metadata": {},
   "source": [
    "It seems that the distribution is quite squed to the right. 75 % of the values are between 7 and 31. Lets see the correlation with pclass"
   ]
  },
  {
   "cell_type": "code",
   "execution_count": 419,
   "metadata": {
    "ExecuteTime": {
     "end_time": "2019-11-26T14:13:55.583955Z",
     "start_time": "2019-11-26T14:13:55.426039Z"
    },
    "scrolled": false
   },
   "outputs": [
    {
     "data": {
      "text/plain": [
       "<matplotlib.axes._subplots.AxesSubplot at 0x7f54eef45790>"
      ]
     },
     "execution_count": 419,
     "metadata": {},
     "output_type": "execute_result"
    },
    {
     "data": {
      "image/png": "[encoded data removed]",
      "text/plain": [
       "<Figure size 432x288 with 1 Axes>"
      ]
     },
     "metadata": {
      "needs_background": "light"
     },
     "output_type": "display_data"
    }
   ],
   "source": [
    "sns.boxplot(x = \"Pclass\", y = \"Fare\", data = data[data.Fare < 300])"
   ]
  },
  {
   "cell_type": "code",
   "execution_count": 420,
   "metadata": {
    "ExecuteTime": {
     "end_time": "2019-11-26T14:13:55.931905Z",
     "start_time": "2019-11-26T14:13:55.585639Z"
    }
   },
   "outputs": [
    {
     "data": {
      "text/plain": [
       "<matplotlib.axes._subplots.AxesSubplot at 0x7f54eeeed310>"
      ]
     },
     "execution_count": 420,
     "metadata": {},
     "output_type": "execute_result"
    },
    {
     "data": {
      "image/png": "[encoded data removed]",
      "text/plain": [
       "<Figure size 1440x720 with 1 Axes>"
      ]
     },
     "metadata": {
      "needs_background": "light"
     },
     "output_type": "display_data"
    }
   ],
   "source": [
    "fig, ax = plt.subplots(figsize=(20,10))\n",
    "\n",
    "sns.distplot(data[(data.Fare < 300) & (data.Pclass == 1)][\"Fare\"])\n",
    "sns.distplot(data[(data.Fare < 300) & (data.Pclass == 2)][\"Fare\"])\n",
    "sns.distplot(data[(data.Fare < 300) & (data.Pclass == 3)][\"Fare\"])"
   ]
  },
  {
   "cell_type": "markdown",
   "metadata": {},
   "source": [
    "The distributions aer clearly different between the three groups. Surprisingly, it seems that there is quite overlaping of the clases. There is people from 3rd class that pays the same than people from 1st class. Let's look at its interaction with survival"
   ]
  },
  {
   "cell_type": "code",
   "execution_count": 421,
   "metadata": {
    "ExecuteTime": {
     "end_time": "2019-11-26T14:13:56.108343Z",
     "start_time": "2019-11-26T14:13:55.933705Z"
    }
   },
   "outputs": [
    {
     "data": {
      "text/plain": [
       "<seaborn.axisgrid.FacetGrid at 0x7f54eeed8dd0>"
      ]
     },
     "execution_count": 421,
     "metadata": {},
     "output_type": "execute_result"
    },
    {
     "data": {
      "image/png": "[encoded data removed]",
      "text/plain": [
       "<Figure size 360x360 with 1 Axes>"
      ]
     },
     "metadata": {
      "needs_background": "light"
     },
     "output_type": "display_data"
    }
   ],
   "source": [
    "sns.catplot(\"Survived\", \"Fare\", data=data[data.Fare < 300], kind=\"violin\")"
   ]
  },
  {
   "cell_type": "code",
   "execution_count": 422,
   "metadata": {
    "ExecuteTime": {
     "end_time": "2019-11-26T14:13:56.404292Z",
     "start_time": "2019-11-26T14:13:56.109854Z"
    },
    "scrolled": false
   },
   "outputs": [
    {
     "data": {
      "text/plain": [
       "<seaborn.axisgrid.FacetGrid at 0x7f54eedf9550>"
      ]
     },
     "execution_count": 422,
     "metadata": {},
     "output_type": "execute_result"
    },
    {
     "data": {
      "image/png": "[encoded data removed]",
      "text/plain": [
       "<Figure size 771.875x720 with 1 Axes>"
      ]
     },
     "metadata": {
      "needs_background": "light"
     },
     "output_type": "display_data"
    }
   ],
   "source": [
    "\n",
    "sns.catplot(x=\"Fare\", y=\"Pclass\",\n",
    "               data=data[data.Fare < 300], hue=\"Survived\", split=True, kind=\"violin\", height=10, orient=\"h\")"
   ]
  },
  {
   "cell_type": "markdown",
   "metadata": {},
   "source": [
    "As for first class it seems that the fare have a moderate effect in the main bulk of data points. The distribution of survivors is slighly higher that non survivors. In the case of 2nd class, there is a second peak in the distribution of survivors that affects the survival rate for higher fares. Finaly for 1st class it does not seem to be any difference between the two distributions in the main bulk. \n",
    "\n",
    "There is a phenomenon in the second and third lcass in the top values apparently in booth cases, the top Fares were more likely to die, however, submaximal fares had more chances to survive.\n",
    "\n",
    "It seems that Fare is not as informative as previous features analyzed"
   ]
  },
  {
   "cell_type": "markdown",
   "metadata": {},
   "source": [
    "### Cabin"
   ]
  },
  {
   "cell_type": "code",
   "execution_count": 423,
   "metadata": {
    "ExecuteTime": {
     "end_time": "2019-11-26T14:13:56.412565Z",
     "start_time": "2019-11-26T14:13:56.405878Z"
    }
   },
   "outputs": [
    {
     "data": {
      "text/plain": [
       "count             159\n",
       "unique            117\n",
       "top       C23 C25 C27\n",
       "freq                4\n",
       "Name: Cabin, dtype: object"
      ]
     },
     "execution_count": 423,
     "metadata": {},
     "output_type": "execute_result"
    }
   ],
   "source": [
    "data.Cabin.describe()"
   ]
  },
  {
   "cell_type": "code",
   "execution_count": 424,
   "metadata": {
    "ExecuteTime": {
     "end_time": "2019-11-26T14:13:56.523795Z",
     "start_time": "2019-11-26T14:13:56.414227Z"
    }
   },
   "outputs": [
    {
     "data": {
      "text/plain": [
       "553"
      ]
     },
     "execution_count": 424,
     "metadata": {},
     "output_type": "execute_result"
    }
   ],
   "source": [
    "data.Cabin.isna().sum()"
   ]
  },
  {
   "cell_type": "markdown",
   "metadata": {},
   "source": [
    "There are 147 different cabins, some of them are shared as the total number of not nan values are 204. The max frequency is 4 so the cabins with more capacity where thought for 4 people. There are 687 people without cabin. "
   ]
  },
  {
   "cell_type": "code",
   "execution_count": 425,
   "metadata": {
    "ExecuteTime": {
     "end_time": "2019-11-26T14:13:56.624633Z",
     "start_time": "2019-11-26T14:13:56.527391Z"
    },
    "scrolled": false
   },
   "outputs": [
    {
     "data": {
      "text/plain": [
       "array(['C124', 'B58 B60', 'B38', 'C52', 'C93', 'C45', 'B20', 'B96 B98',\n",
       "       'C82', 'C78', 'C106', 'C22 C26', 'B57 B59 B63 B66', 'B28', 'C104',\n",
       "       'F2', 'D11', 'C86', 'E38', 'C52', 'A34', 'C91', 'C68', 'F2',\n",
       "       'F G73', 'E46', 'C92', 'E50', 'A32', 'G6', 'C128', 'E10', 'E44',\n",
       "       'B28', 'B41', 'B18', 'D35', 'E31', 'C2', 'C50', 'C103', 'B18',\n",
       "       'B3', 'A10', 'C49', 'C90', 'B77', 'C123', 'D', 'D36', 'E33', 'F2',\n",
       "       'B5', 'A19', 'B37', 'F G73', 'E58', 'C124', 'C23 C25 C27', 'F33',\n",
       "       'C7', 'E67', 'E8', 'B22', 'B35', 'C125', 'C65', 'C54', 'B80',\n",
       "       'B94', 'C23 C25 C27', 'D26', 'E121', 'E24', 'C78', 'D45', 'B101',\n",
       "       'B51 B53 B55', 'D17', 'D46', 'E17', 'B4', 'C46', 'A23', 'F4', 'C2',\n",
       "       'C47', 'E101', 'C111', 'E101', 'C101', 'E67', 'C22 C26', 'B82 B84',\n",
       "       'C70', 'C32', 'E101', 'B77', 'C125', 'F4', 'C23 C25 C27', 'B5',\n",
       "       'B35', 'B102', 'D20', 'B71', 'B51 B53 B55', 'E121', 'A36', 'D9',\n",
       "       'B50', 'C93', 'C65', 'D33', 'A16', 'E44', 'C68', 'B22', 'B19',\n",
       "       'B20', 'E12', 'C23 C25 C27', 'C83', 'C22 C26', 'C83', 'A26',\n",
       "       'F E69', 'A24', 'B73', 'C30', 'B96 B98', 'D33', 'E40', 'D30', 'E8',\n",
       "       'E24', 'G6', 'B42', 'C99', 'C85', 'G6', 'D37', 'T', 'F33', 'F38',\n",
       "       'C118', 'E33', 'B49', 'B79', 'D6', 'F G63', 'A14', 'D49', 'C87',\n",
       "       'D56', 'D35', 'C62 C64', 'B96 B98', 'D26'], dtype=object)"
      ]
     },
     "execution_count": 425,
     "metadata": {},
     "output_type": "execute_result"
    }
   ],
   "source": [
    "data.Cabin[(data.Cabin.notna()) | (data.Cabin == 0)].values"
   ]
  },
  {
   "cell_type": "markdown",
   "metadata": {},
   "source": [
    "Looking at the values, it seems that cabins are named with a letter and an optional number. Also, there is people with more than one room in their record. For the sake of simplicity, In this first round of analysis I will take Cabin as a boolean feature, being 0 if nan and 1 otherwise. "
   ]
  },
  {
   "cell_type": "code",
   "execution_count": 426,
   "metadata": {
    "ExecuteTime": {
     "end_time": "2019-11-26T14:13:56.722042Z",
     "start_time": "2019-11-26T14:13:56.626212Z"
    }
   },
   "outputs": [
    {
     "name": "stderr",
     "output_type": "stream",
     "text": [
      "/home/adri/anaconda3/lib/python3.7/site-packages/ipykernel_launcher.py:1: SettingWithCopyWarning: \n",
      "A value is trying to be set on a copy of a slice from a DataFrame.\n",
      "Try using .loc[row_indexer,col_indexer] = value instead\n",
      "\n",
      "See the caveats in the documentation: http://pandas.pydata.org/pandas-docs/stable/user_guide/indexing.html#returning-a-view-versus-a-copy\n",
      "  \"\"\"Entry point for launching an IPython kernel.\n"
     ]
    }
   ],
   "source": [
    "data[\"boolean_cabin\"] = data.Cabin.notna().astype(int)"
   ]
  },
  {
   "cell_type": "code",
   "execution_count": 427,
   "metadata": {
    "ExecuteTime": {
     "end_time": "2019-11-26T14:13:56.821594Z",
     "start_time": "2019-11-26T14:13:56.724787Z"
    }
   },
   "outputs": [
    {
     "name": "stderr",
     "output_type": "stream",
     "text": [
      "/home/adri/anaconda3/lib/python3.7/site-packages/pandas/core/generic.py:5208: SettingWithCopyWarning: \n",
      "A value is trying to be set on a copy of a slice from a DataFrame.\n",
      "Try using .loc[row_indexer,col_indexer] = value instead\n",
      "\n",
      "See the caveats in the documentation: http://pandas.pydata.org/pandas-docs/stable/user_guide/indexing.html#returning-a-view-versus-a-copy\n",
      "  self[name] = value\n"
     ]
    }
   ],
   "source": [
    "data.boolean_cabin = data.boolean_cabin.astype(\"category\")"
   ]
  },
  {
   "cell_type": "code",
   "execution_count": 428,
   "metadata": {
    "ExecuteTime": {
     "end_time": "2019-11-26T14:13:56.929558Z",
     "start_time": "2019-11-26T14:13:56.823937Z"
    }
   },
   "outputs": [
    {
     "data": {
      "text/plain": [
       "boolean_cabin  Survived\n",
       "0              0           0.701627\n",
       "               1           0.298373\n",
       "1              1           0.647799\n",
       "               0           0.352201\n",
       "Name: Survived, dtype: float64"
      ]
     },
     "execution_count": 428,
     "metadata": {},
     "output_type": "execute_result"
    }
   ],
   "source": [
    "data.groupby(\"boolean_cabin\")[\"Survived\"].value_counts(normalize=True)"
   ]
  },
  {
   "cell_type": "code",
   "execution_count": 429,
   "metadata": {
    "ExecuteTime": {
     "end_time": "2019-11-26T14:13:57.242707Z",
     "start_time": "2019-11-26T14:13:56.931553Z"
    },
    "scrolled": false
   },
   "outputs": [
    {
     "data": {
      "text/plain": [
       "<seaborn.axisgrid.FacetGrid at 0x7f54eecfa9d0>"
      ]
     },
     "execution_count": 429,
     "metadata": {},
     "output_type": "execute_result"
    },
    {
     "data": {
      "image/png": "[encoded data removed]",
      "text/plain": [
       "<Figure size 411.875x360 with 1 Axes>"
      ]
     },
     "metadata": {
      "needs_background": "light"
     },
     "output_type": "display_data"
    }
   ],
   "source": [
    "sns.catplot(x=\"boolean_cabin\", hue=\"Survived\", kind = \"count\", data = data)"
   ]
  },
  {
   "cell_type": "markdown",
   "metadata": {},
   "source": [
    "Only taking into account the boolean cabin there is already a quite important difference in survival ratio. Not having a cavinet results in a 70% chances of diying, while having one increases your survival chances to 66%. Like in the case of the fare, Probably there is a high correlation with the passenger class."
   ]
  },
  {
   "cell_type": "code",
   "execution_count": 430,
   "metadata": {
    "ExecuteTime": {
     "end_time": "2019-11-26T14:13:57.454657Z",
     "start_time": "2019-11-26T14:13:57.243968Z"
    }
   },
   "outputs": [
    {
     "data": {
      "text/plain": [
       "<seaborn.axisgrid.FacetGrid at 0x7f54eec77c90>"
      ]
     },
     "execution_count": 430,
     "metadata": {},
     "output_type": "execute_result"
    },
    {
     "data": {
      "image/png": "[encoded data removed]",
      "text/plain": [
       "<Figure size 402.375x360 with 1 Axes>"
      ]
     },
     "metadata": {
      "needs_background": "light"
     },
     "output_type": "display_data"
    }
   ],
   "source": [
    "sns.catplot(\"boolean_cabin\", kind=\"count\", data=data, hue=\"Pclass\")"
   ]
  },
  {
   "cell_type": "markdown",
   "metadata": {},
   "source": [
    "Almost all the people in cavins are from 3rd class. Surprisingly there are people from all classes in the two groups. on the other hand almost all the people from second and third class does not have a cabin. Closer inspection must be done to uncommon cases to discard possible outlayers. "
   ]
  },
  {
   "cell_type": "code",
   "execution_count": 431,
   "metadata": {
    "ExecuteTime": {
     "end_time": "2019-11-26T14:13:57.651124Z",
     "start_time": "2019-11-26T14:13:57.460481Z"
    },
    "scrolled": false
   },
   "outputs": [
    {
     "data": {
      "text/plain": [
       "<seaborn.axisgrid.FacetGrid at 0x7f54eec85e10>"
      ]
     },
     "execution_count": 431,
     "metadata": {},
     "output_type": "execute_result"
    },
    {
     "data": {
      "image/png": "[encoded data removed]",
      "text/plain": [
       "<Figure size 720x360 with 1 Axes>"
      ]
     },
     "metadata": {
      "needs_background": "light"
     },
     "output_type": "display_data"
    }
   ],
   "source": [
    "sns.catplot( \"Fare\",\"boolean_cabin\", kind=\"violin\", data=data, orient=\"h\",aspect=2)"
   ]
  },
  {
   "cell_type": "markdown",
   "metadata": {},
   "source": [
    "As espected, there is a difference in the fare of people with and without cabin"
   ]
  },
  {
   "cell_type": "markdown",
   "metadata": {},
   "source": [
    "### Embarked"
   ]
  },
  {
   "cell_type": "code",
   "execution_count": 432,
   "metadata": {
    "ExecuteTime": {
     "end_time": "2019-11-26T14:13:57.658681Z",
     "start_time": "2019-11-26T14:13:57.654840Z"
    }
   },
   "outputs": [],
   "source": [
    "data.Embarked = data.Embarked.astype(\"category\")"
   ]
  },
  {
   "cell_type": "code",
   "execution_count": 433,
   "metadata": {
    "ExecuteTime": {
     "end_time": "2019-11-26T14:13:57.755710Z",
     "start_time": "2019-11-26T14:13:57.660419Z"
    },
    "scrolled": true
   },
   "outputs": [
    {
     "data": {
      "text/plain": [
       "count     710\n",
       "unique      3\n",
       "top         S\n",
       "freq      525\n",
       "Name: Embarked, dtype: object"
      ]
     },
     "execution_count": 433,
     "metadata": {},
     "output_type": "execute_result"
    }
   ],
   "source": [
    "data.Embarked.describe()"
   ]
  },
  {
   "cell_type": "code",
   "execution_count": 434,
   "metadata": {
    "ExecuteTime": {
     "end_time": "2019-11-26T14:13:57.861771Z",
     "start_time": "2019-11-26T14:13:57.757136Z"
    },
    "scrolled": true
   },
   "outputs": [
    {
     "data": {
      "text/html": [
       "<div>\n",
       "<style scoped>\n",
       "    .dataframe tbody tr th:only-of-type {\n",
       "        vertical-align: middle;\n",
       "    }\n",
       "\n",
       "    .dataframe tbody tr th {\n",
       "        vertical-align: top;\n",
       "    }\n",
       "\n",
       "    .dataframe thead th {\n",
       "        text-align: right;\n",
       "    }\n",
       "</style>\n",
       "<table border=\"1\" class=\"dataframe\">\n",
       "  <thead>\n",
       "    <tr style=\"text-align: right;\">\n",
       "      <th></th>\n",
       "      <th>Embarked</th>\n",
       "      <th>Embarked</th>\n",
       "    </tr>\n",
       "  </thead>\n",
       "  <tbody>\n",
       "    <tr>\n",
       "      <td>S</td>\n",
       "      <td>525</td>\n",
       "      <td>73.943662</td>\n",
       "    </tr>\n",
       "    <tr>\n",
       "      <td>C</td>\n",
       "      <td>125</td>\n",
       "      <td>17.605634</td>\n",
       "    </tr>\n",
       "    <tr>\n",
       "      <td>Q</td>\n",
       "      <td>60</td>\n",
       "      <td>8.450704</td>\n",
       "    </tr>\n",
       "  </tbody>\n",
       "</table>\n",
       "</div>"
      ],
      "text/plain": [
       "   Embarked   Embarked\n",
       "S       525  73.943662\n",
       "C       125  17.605634\n",
       "Q        60   8.450704"
      ]
     },
     "execution_count": 434,
     "metadata": {},
     "output_type": "execute_result"
    }
   ],
   "source": [
    "pd.concat([data.Embarked.value_counts(), data.Embarked.value_counts(\n",
    "    normalize=True)*100], axis=1)"
   ]
  },
  {
   "cell_type": "code",
   "execution_count": 435,
   "metadata": {
    "ExecuteTime": {
     "end_time": "2019-11-26T14:13:57.954523Z",
     "start_time": "2019-11-26T14:13:57.863567Z"
    }
   },
   "outputs": [
    {
     "data": {
      "text/plain": [
       "2"
      ]
     },
     "execution_count": 435,
     "metadata": {},
     "output_type": "execute_result"
    }
   ],
   "source": [
    "data.Embarked.isna().sum()"
   ]
  },
  {
   "cell_type": "code",
   "execution_count": 436,
   "metadata": {
    "ExecuteTime": {
     "end_time": "2019-11-26T14:13:58.200917Z",
     "start_time": "2019-11-26T14:13:57.956604Z"
    },
    "scrolled": false
   },
   "outputs": [
    {
     "data": {
      "text/plain": [
       "<seaborn.axisgrid.FacetGrid at 0x7f54eeb05610>"
      ]
     },
     "execution_count": 436,
     "metadata": {},
     "output_type": "execute_result"
    },
    {
     "data": {
      "image/png": "[encoded data removed]",
      "text/plain": [
       "<Figure size 360x360 with 1 Axes>"
      ]
     },
     "metadata": {
      "needs_background": "light"
     },
     "output_type": "display_data"
    }
   ],
   "source": [
    "sns.catplot(\"Embarked\", kind=\"count\", data=data)"
   ]
  },
  {
   "cell_type": "markdown",
   "metadata": {},
   "source": [
    "We see that Embarked is unevenly distributed, 72% of the whole people embarked in \"S\". There are two Nans in the feature, we could remove them or imput the value based on the rest of the features. "
   ]
  },
  {
   "cell_type": "code",
   "execution_count": 437,
   "metadata": {
    "ExecuteTime": {
     "end_time": "2019-11-26T14:13:58.588878Z",
     "start_time": "2019-11-26T14:13:58.202188Z"
    },
    "scrolled": false
   },
   "outputs": [
    {
     "data": {
      "text/plain": [
       "<seaborn.axisgrid.FacetGrid at 0x7f54eea423d0>"
      ]
     },
     "execution_count": 437,
     "metadata": {},
     "output_type": "execute_result"
    },
    {
     "data": {
      "image/png": "[encoded data removed]",
      "text/plain": [
       "<Figure size 1080x360 with 3 Axes>"
      ]
     },
     "metadata": {
      "needs_background": "light"
     },
     "output_type": "display_data"
    }
   ],
   "source": [
    "sns.catplot(col=\"Embarked\", kind=\"count\", data=data, x=\"Survived\", sharey=False)"
   ]
  },
  {
   "cell_type": "markdown",
   "metadata": {},
   "source": [
    "The survival rate is considerably affected by the embarking logation. Embarking in C makes it more probable to survive. on the contrary embarking in  in q or s have higher and similar probabliity to die. "
   ]
  },
  {
   "cell_type": "markdown",
   "metadata": {},
   "source": [
    "## Preparing the data"
   ]
  },
  {
   "cell_type": "code",
   "execution_count": 746,
   "metadata": {
    "ExecuteTime": {
     "end_time": "2019-11-27T15:09:48.808010Z",
     "start_time": "2019-11-27T15:09:48.804681Z"
    }
   },
   "outputs": [],
   "source": [
    "from sklearn.preprocessing import MinMaxScaler"
   ]
  },
  {
   "cell_type": "code",
   "execution_count": 747,
   "metadata": {
    "ExecuteTime": {
     "end_time": "2019-11-27T15:09:49.326118Z",
     "start_time": "2019-11-27T15:09:49.316655Z"
    },
    "scrolled": true
   },
   "outputs": [],
   "source": [
    "X = data.drop([\"Cabin\", \"PassengerId\", \"Name\", \"Ticket\"], axis=1).dropna()"
   ]
  },
  {
   "cell_type": "code",
   "execution_count": 748,
   "metadata": {
    "ExecuteTime": {
     "end_time": "2019-11-27T15:09:49.960266Z",
     "start_time": "2019-11-27T15:09:49.955210Z"
    }
   },
   "outputs": [],
   "source": [
    "y = X.Survived\n",
    "X = X.drop(\"Survived\", axis=1)"
   ]
  },
  {
   "cell_type": "code",
   "execution_count": 749,
   "metadata": {
    "ExecuteTime": {
     "end_time": "2019-11-27T15:09:50.344126Z",
     "start_time": "2019-11-27T15:09:50.326550Z"
    }
   },
   "outputs": [],
   "source": [
    "X = pd.get_dummies(X)"
   ]
  },
  {
   "cell_type": "code",
   "execution_count": 750,
   "metadata": {
    "ExecuteTime": {
     "end_time": "2019-11-27T15:09:50.755354Z",
     "start_time": "2019-11-27T15:09:50.747489Z"
    },
    "scrolled": true
   },
   "outputs": [],
   "source": [
    "# Scaling dataframe\n",
    "x = X.values #returns a numpy array\n",
    "min_max_scaler = preprocessing.MinMaxScaler()\n",
    "x_scaled = min_max_scaler.fit_transform(x)\n",
    "X = pd.DataFrame(x_scaled, columns=X.columns)"
   ]
  },
  {
   "cell_type": "code",
   "execution_count": 751,
   "metadata": {
    "ExecuteTime": {
     "end_time": "2019-11-27T15:09:51.550307Z",
     "start_time": "2019-11-27T15:09:51.526109Z"
    }
   },
   "outputs": [
    {
     "data": {
      "text/html": [
       "<div>\n",
       "<style scoped>\n",
       "    .dataframe tbody tr th:only-of-type {\n",
       "        vertical-align: middle;\n",
       "    }\n",
       "\n",
       "    .dataframe tbody tr th {\n",
       "        vertical-align: top;\n",
       "    }\n",
       "\n",
       "    .dataframe thead th {\n",
       "        text-align: right;\n",
       "    }\n",
       "</style>\n",
       "<table border=\"1\" class=\"dataframe\">\n",
       "  <thead>\n",
       "    <tr style=\"text-align: right;\">\n",
       "      <th></th>\n",
       "      <th>Age</th>\n",
       "      <th>SibSp</th>\n",
       "      <th>Parch</th>\n",
       "      <th>Fare</th>\n",
       "      <th>Pclass_1</th>\n",
       "      <th>Pclass_2</th>\n",
       "      <th>Pclass_3</th>\n",
       "      <th>Sex_female</th>\n",
       "      <th>Sex_male</th>\n",
       "      <th>Embarked_C</th>\n",
       "      <th>Embarked_Q</th>\n",
       "      <th>Embarked_S</th>\n",
       "      <th>boolean_cabin_0</th>\n",
       "      <th>boolean_cabin_1</th>\n",
       "    </tr>\n",
       "  </thead>\n",
       "  <tbody>\n",
       "    <tr>\n",
       "      <td>0</td>\n",
       "      <td>0.566474</td>\n",
       "      <td>0.0</td>\n",
       "      <td>0.000000</td>\n",
       "      <td>0.055628</td>\n",
       "      <td>1.0</td>\n",
       "      <td>0.0</td>\n",
       "      <td>0.0</td>\n",
       "      <td>0.0</td>\n",
       "      <td>1.0</td>\n",
       "      <td>0.0</td>\n",
       "      <td>0.0</td>\n",
       "      <td>1.0</td>\n",
       "      <td>0.0</td>\n",
       "      <td>1.0</td>\n",
       "    </tr>\n",
       "    <tr>\n",
       "      <td>1</td>\n",
       "      <td>0.283740</td>\n",
       "      <td>0.0</td>\n",
       "      <td>0.000000</td>\n",
       "      <td>0.025374</td>\n",
       "      <td>0.0</td>\n",
       "      <td>1.0</td>\n",
       "      <td>0.0</td>\n",
       "      <td>0.0</td>\n",
       "      <td>1.0</td>\n",
       "      <td>0.0</td>\n",
       "      <td>0.0</td>\n",
       "      <td>1.0</td>\n",
       "      <td>1.0</td>\n",
       "      <td>0.0</td>\n",
       "    </tr>\n",
       "    <tr>\n",
       "      <td>2</td>\n",
       "      <td>0.396833</td>\n",
       "      <td>0.0</td>\n",
       "      <td>0.000000</td>\n",
       "      <td>0.015469</td>\n",
       "      <td>0.0</td>\n",
       "      <td>0.0</td>\n",
       "      <td>1.0</td>\n",
       "      <td>0.0</td>\n",
       "      <td>1.0</td>\n",
       "      <td>0.0</td>\n",
       "      <td>0.0</td>\n",
       "      <td>1.0</td>\n",
       "      <td>1.0</td>\n",
       "      <td>0.0</td>\n",
       "    </tr>\n",
       "    <tr>\n",
       "      <td>3</td>\n",
       "      <td>0.321438</td>\n",
       "      <td>0.2</td>\n",
       "      <td>0.000000</td>\n",
       "      <td>0.015330</td>\n",
       "      <td>0.0</td>\n",
       "      <td>0.0</td>\n",
       "      <td>1.0</td>\n",
       "      <td>0.0</td>\n",
       "      <td>1.0</td>\n",
       "      <td>0.0</td>\n",
       "      <td>0.0</td>\n",
       "      <td>1.0</td>\n",
       "      <td>1.0</td>\n",
       "      <td>0.0</td>\n",
       "    </tr>\n",
       "    <tr>\n",
       "      <td>4</td>\n",
       "      <td>0.070118</td>\n",
       "      <td>0.8</td>\n",
       "      <td>0.333333</td>\n",
       "      <td>0.061045</td>\n",
       "      <td>0.0</td>\n",
       "      <td>0.0</td>\n",
       "      <td>1.0</td>\n",
       "      <td>1.0</td>\n",
       "      <td>0.0</td>\n",
       "      <td>0.0</td>\n",
       "      <td>0.0</td>\n",
       "      <td>1.0</td>\n",
       "      <td>1.0</td>\n",
       "      <td>0.0</td>\n",
       "    </tr>\n",
       "  </tbody>\n",
       "</table>\n",
       "</div>"
      ],
      "text/plain": [
       "        Age  SibSp     Parch      Fare  Pclass_1  Pclass_2  Pclass_3  \\\n",
       "0  0.566474    0.0  0.000000  0.055628       1.0       0.0       0.0   \n",
       "1  0.283740    0.0  0.000000  0.025374       0.0       1.0       0.0   \n",
       "2  0.396833    0.0  0.000000  0.015469       0.0       0.0       1.0   \n",
       "3  0.321438    0.2  0.000000  0.015330       0.0       0.0       1.0   \n",
       "4  0.070118    0.8  0.333333  0.061045       0.0       0.0       1.0   \n",
       "\n",
       "   Sex_female  Sex_male  Embarked_C  Embarked_Q  Embarked_S  boolean_cabin_0  \\\n",
       "0         0.0       1.0         0.0         0.0         1.0              0.0   \n",
       "1         0.0       1.0         0.0         0.0         1.0              1.0   \n",
       "2         0.0       1.0         0.0         0.0         1.0              1.0   \n",
       "3         0.0       1.0         0.0         0.0         1.0              1.0   \n",
       "4         1.0       0.0         0.0         0.0         1.0              1.0   \n",
       "\n",
       "   boolean_cabin_1  \n",
       "0              1.0  \n",
       "1              0.0  \n",
       "2              0.0  \n",
       "3              0.0  \n",
       "4              0.0  "
      ]
     },
     "execution_count": 751,
     "metadata": {},
     "output_type": "execute_result"
    }
   ],
   "source": [
    "X.head()"
   ]
  },
  {
   "cell_type": "code",
   "execution_count": 752,
   "metadata": {
    "ExecuteTime": {
     "end_time": "2019-11-27T15:09:52.180613Z",
     "start_time": "2019-11-27T15:09:52.172881Z"
    },
    "scrolled": false
   },
   "outputs": [
    {
     "data": {
      "text/plain": [
       "331    0\n",
       "733    0\n",
       "382    0\n",
       "704    0\n",
       "813    0\n",
       "Name: Survived, dtype: category\n",
       "Categories (2, int64): [0, 1]"
      ]
     },
     "execution_count": 752,
     "metadata": {},
     "output_type": "execute_result"
    }
   ],
   "source": [
    "y.head()"
   ]
  },
  {
   "cell_type": "markdown",
   "metadata": {
    "ExecuteTime": {
     "end_time": "2019-11-22T21:31:19.434769Z",
     "start_time": "2019-11-22T21:31:19.396329Z"
    }
   },
   "source": [
    "## Baseline model"
   ]
  },
  {
   "cell_type": "code",
   "execution_count": 760,
   "metadata": {
    "ExecuteTime": {
     "end_time": "2019-11-27T15:17:10.800254Z",
     "start_time": "2019-11-27T15:17:10.779613Z"
    }
   },
   "outputs": [],
   "source": [
    "def cross_fold_validation(clf, verbose=0):\n",
    "\n",
    "    kf = KFold(n_splits=5, shuffle=True)\n",
    "\n",
    "    f1_list = []\n",
    "    cm_list = []\n",
    "\n",
    "    error_df = pd.DataFrame()\n",
    "\n",
    "    for train_index, test_index in kf.split(X):\n",
    "        X_train, X_test = X.iloc[train_index], X.iloc[test_index]\n",
    "        y_train, y_test = y.iloc[train_index], y.iloc[test_index]\n",
    "\n",
    "        clf = clf.fit(X_train, y_train)\n",
    "\n",
    "        pred = clf.predict(X_test)\n",
    "\n",
    "        f1 = f1_score(y_test, pred)\n",
    "\n",
    "        f1_list.append(f1)\n",
    "\n",
    "        cm = confusion_matrix(y_test, pred)\n",
    "        cm_list.append(cm)\n",
    "\n",
    "        test_and_preds = pd.concat([X_test.reset_index(drop=True),\n",
    "                                    y_test.reset_index(drop=True),\n",
    "                                    pd.Series(pred, name=\"pred\")],\n",
    "                                   axis=1)\n",
    "        test_and_preds = test_and_preds[test_and_preds.Survived != test_and_preds.pred].drop([\n",
    "                                                                                             \"Survived\", \"pred\"], axis=\"columns\")\n",
    "\n",
    "        error_df = pd.concat([error_df, test_and_preds])\n",
    "\n",
    "    f1_mean = np.mean(f1_list)\n",
    "    f1_sd = np.std(f1_list)\n",
    "    if verbose == 1:\n",
    "        print(f\"result: {f1_mean:.3} +- {f1_sd:.3}\")\n",
    "        print(sum(cm_list))\n",
    "\n",
    "    return clf, f1_list, cm_list, error_df"
   ]
  },
  {
   "cell_type": "code",
   "execution_count": 761,
   "metadata": {
    "ExecuteTime": {
     "end_time": "2019-11-27T15:17:11.487078Z",
     "start_time": "2019-11-27T15:17:11.478327Z"
    }
   },
   "outputs": [],
   "source": [
    "def fit_models(model_dict):\n",
    "\n",
    "    f1_df = pd.DataFrame(columns=[\"value\", \"model\"])\n",
    "\n",
    "    error_df_dict = {}\n",
    "\n",
    "    for name, model in model_dict.items():\n",
    "\n",
    "        error_df_dict[name] = pd.DataFrame()\n",
    "\n",
    "        for i in range(10):\n",
    "            _, f1_list, cm_list, error_df = cross_fold_validation(model)\n",
    "\n",
    "            f1_df = pd.concat([f1_df, pd.DataFrame({\"value\":f1_list, \"model\": name})])\n",
    "\n",
    "            error_df_dict[name] = pd.concat([error_df_dict[name], error_df])\n",
    "    \n",
    "    return f1_df, error_df_dict"
   ]
  },
  {
   "cell_type": "code",
   "execution_count": 762,
   "metadata": {
    "ExecuteTime": {
     "end_time": "2019-11-27T15:18:53.088306Z",
     "start_time": "2019-11-27T15:17:12.077582Z"
    }
   },
   "outputs": [],
   "source": [
    "# testing several models\n",
    "model_dict = {\"naive_bayes\": GaussianNB(),\n",
    "              \"logistic_regression\": LogisticRegression(solver=\"lbfgs\", max_iter=300),\n",
    "              \"decision_tree\": tree.DecisionTreeClassifier(max_depth=4),\n",
    "              \"svm\": svm.SVC(gamma='scale'),\n",
    "              \"random_forest\": RandomForestClassifier(n_estimators=100),\n",
    "              \"neural_net\": MLPClassifier(max_iter = 5000)}\n",
    "\n",
    "f1_df, error_df_dict = fit_models(model_dict)"
   ]
  },
  {
   "cell_type": "code",
   "execution_count": 763,
   "metadata": {
    "ExecuteTime": {
     "end_time": "2019-11-27T15:21:38.485020Z",
     "start_time": "2019-11-27T15:21:38.206082Z"
    },
    "scrolled": true
   },
   "outputs": [
    {
     "data": {
      "image/png": "[encoded data removed]",
      "text/plain": [
       "<Figure size 432x288 with 1 Axes>"
      ]
     },
     "metadata": {
      "needs_background": "light"
     },
     "output_type": "display_data"
    }
   ],
   "source": [
    "model_order = f1_df.groupby(\"model\").mean().sort_values(\"value\", ascending=False).index\n",
    "sns.boxplot(y=\"value\", x = \"model\", data = f1_df, order=model_order)\n",
    "plt.xticks(rotation=45, ha=\"right\")\n",
    "plt.show()"
   ]
  },
  {
   "cell_type": "markdown",
   "metadata": {},
   "source": [
    "After trying several models with a 5-fold cross validation, no big difference is spotted between the models. In general, they get a f1 score around 0.7-0.75. The model with the best mean is the logistic regression. However, I will not discard any model at this timepoint. "
   ]
  },
  {
   "cell_type": "markdown",
   "metadata": {},
   "source": [
    "### Error analysis"
   ]
  },
  {
   "cell_type": "code",
   "execution_count": 795,
   "metadata": {
    "ExecuteTime": {
     "end_time": "2019-11-27T15:39:01.538096Z",
     "start_time": "2019-11-27T15:39:01.530790Z"
    }
   },
   "outputs": [],
   "source": [
    "def bucketize_df(df, bins = None, template = None):\n",
    "    df = df.copy()\n",
    "    for col in df:\n",
    "\n",
    "        if len(df[col].unique()) > 2:\n",
    "            if type(bins) != int:\n",
    "                bins = template[col].cat.categories\n",
    "            df[col] = pd.cut(df[col], bins)\n",
    "            \n",
    "    return df"
   ]
  },
  {
   "cell_type": "code",
   "execution_count": 806,
   "metadata": {
    "ExecuteTime": {
     "end_time": "2019-11-27T15:47:09.988207Z",
     "start_time": "2019-11-27T15:47:09.970733Z"
    },
    "scrolled": true
   },
   "outputs": [],
   "source": [
    "def analyze_errors(error_df_dict):\n",
    "    \n",
    "    sigma_df = pd.DataFrame({'feature':[],\n",
    "                             'sigma':[],\n",
    "                             'model':[]})\n",
    "    for model_name, error_df in error_df_dict.items():\n",
    "        \n",
    "        bucketized_X = bucketize_df(X, 5)\n",
    "        error_df = bucketize_df(error_df, template = bucketized_X)\n",
    "        \n",
    "        bucketized_X = pd.get_dummies(bucketized_X)\n",
    "        error_df = pd.get_dummies(error_df)\n",
    "        \n",
    "        features_sigma = []\n",
    "        for col in error_df:\n",
    "            if len(error_df[col].unique()) == 2:\n",
    "\n",
    "                err_dist = error_df[col].value_counts()\n",
    "                X_dist = bucketized_X[col].value_counts(normalize=True)\n",
    "\n",
    "                n = len(error_df)\n",
    "                p = X_dist[1]\n",
    "                q = 1-p\n",
    "\n",
    "                observed = err_dist[1]\n",
    "                expected = n*p\n",
    "                std = np.sqrt(n*p*q)\n",
    "\n",
    "                sigma = (observed-expected)/std\n",
    "\n",
    "                features_sigma.append([col, sigma, model_name])\n",
    "\n",
    "        sigma_df = pd.concat([sigma_df, pd.DataFrame(features_sigma, columns = sigma_df.columns)])\n",
    "\n",
    "        features_p_val.sort(key=lambda x: x[1])\n",
    "\n",
    "\n",
    "    sorted_features = sigma_df.groupby(\"feature\").mean().sort_values(\"sigma\", ascending = False).index\n",
    "    \n",
    "    fig, ax = plt.subplots(figsize=(20,10))\n",
    "    sns.boxplot(x = \"feature\", y=\"sigma\", data = sigma_df, order = sorted_features)\n",
    "    plt.xticks(rotation=45,ha=\"right\")\n",
    "    plt.plot()"
   ]
  },
  {
   "cell_type": "code",
   "execution_count": 807,
   "metadata": {
    "ExecuteTime": {
     "end_time": "2019-11-27T15:47:12.302960Z",
     "start_time": "2019-11-27T15:47:10.701367Z"
    },
    "scrolled": false
   },
   "outputs": [
    {
     "data": {
      "image/png": "[encoded data removed]",
      "text/plain": [
       "<Figure size 1440x720 with 1 Axes>"
      ]
     },
     "metadata": {
      "needs_background": "light"
     },
     "output_type": "display_data"
    }
   ],
   "source": [
    "analyze_errors(error_df_dict)"
   ]
  },
  {
   "cell_type": "markdown",
   "metadata": {},
   "source": [
    "In the error analysis, we see that the groups where we are failing more are the passengers with cabin and 3rd and 1st class. Lets try to increase the information about these groups. There is an obvious way to improve the data there is about the cabin, as I simplified it as a boolean variable. Also, the name and the ticket have not been used in this preliminar exploration. I will look at them in more depth in the next round. "
   ]
  },
  {
   "cell_type": "markdown",
   "metadata": {},
   "source": [
    "## Name, ticket and Cabin deeper analysis"
   ]
  },
  {
   "cell_type": "markdown",
   "metadata": {},
   "source": [
    "### Name"
   ]
  },
  {
   "cell_type": "code",
   "execution_count": 814,
   "metadata": {
    "ExecuteTime": {
     "end_time": "2019-11-27T20:44:51.541690Z",
     "start_time": "2019-11-27T20:44:51.533550Z"
    },
    "scrolled": true
   },
   "outputs": [
    {
     "data": {
      "text/plain": [
       "552                               O'Brien, Mr. Timothy\n",
       "364                                O'Brien, Mr. Thomas\n",
       "186    O'Brien, Mrs. Thomas (Johanna \"Hannah\" Godfrey)\n",
       "Name: Name, dtype: object"
      ]
     },
     "execution_count": 814,
     "metadata": {},
     "output_type": "execute_result"
    }
   ],
   "source": [
    "data.Name[data.Name.apply(lambda x: \"Brien\" in x)]"
   ]
  },
  {
   "cell_type": "code",
   "execution_count": 830,
   "metadata": {
    "ExecuteTime": {
     "end_time": "2019-11-27T20:55:20.502252Z",
     "start_time": "2019-11-27T20:55:20.494266Z"
    }
   },
   "outputs": [
    {
     "data": {
      "text/plain": [
       "745    Crosby, Capt. Edward Gifford\n",
       "Name: Name, dtype: object"
      ]
     },
     "execution_count": 830,
     "metadata": {},
     "output_type": "execute_result"
    }
   ],
   "source": [
    "data.Name[data.Name.apply(lambda x: \"Cap\" in x)]"
   ]
  },
  {
   "cell_type": "code",
   "execution_count": 818,
   "metadata": {
    "ExecuteTime": {
     "end_time": "2019-11-27T20:46:06.196752Z",
     "start_time": "2019-11-27T20:46:06.188269Z"
    }
   },
   "outputs": [
    {
     "data": {
      "text/plain": [
       "['Bystrom, Mrs. (Karolina)',\n",
       " 'Parrish, Mrs. (Lutie Davis)',\n",
       " 'Hoyt, Mrs. Frederick Maxfield (Jane Anne Forby)',\n",
       " 'Dick, Mrs. Albert Adrian (Vera Gillespie)',\n",
       " 'Turkula, Mrs. (Hedwig)',\n",
       " 'Peter, Mrs. Catherine (Catherine Rizk)',\n",
       " 'Shelley, Mrs. William (Imanita Parrish Hall)',\n",
       " 'Petroff, Mr. Pastcho (\"Pentcho\")',\n",
       " 'Yrois, Miss. Henriette (\"Mrs Harbeck\")',\n",
       " 'Hamalainen, Mrs. William (Anna)',\n",
       " 'Kantor, Mrs. Sinai (Miriam Sternin)',\n",
       " 'Moussa, Mrs. (Mantoura Boulos)',\n",
       " 'Stone, Mrs. George Nelson (Martha Evelyn)',\n",
       " 'Louch, Mrs. Charles Alexander (Alice Adelaide Slow)',\n",
       " 'Navratil, Mr. Michel (\"Louis M Hoffman\")',\n",
       " 'Hogeboom, Mrs. John C (Anna Andrews)',\n",
       " 'Weisz, Mrs. Leopold (Mathilde Francoise Pede)',\n",
       " 'Collyer, Mrs. Harvey (Charlotte Annie Tate)',\n",
       " 'Thayer, Mrs. John Borland (Marian Longstreth Morris)',\n",
       " 'Frauenthal, Mrs. Henry William (Clara Heinsheimer)',\n",
       " 'Nakid, Miss. Maria (\"Mary\")',\n",
       " 'Boulos, Mrs. Joseph (Sultana)',\n",
       " 'Goldsmith, Mrs. Frank John (Emily Alice Brown)',\n",
       " 'Robins, Mrs. Alexander A (Grace Charity Laury)',\n",
       " 'Turpin, Mrs. William John Robert (Dorothy Ann Wonnacott)',\n",
       " 'Sandstrom, Mrs. Hjalmar (Agnes Charlotta Bengtsson)',\n",
       " 'Pickard, Mr. Berk (Berk Trembisky)',\n",
       " 'Vander Planke, Mrs. Julius (Emelia Maria Vandemoortele)',\n",
       " 'Mellinger, Mrs. (Elizabeth Anne Maidment)',\n",
       " 'Rothschild, Mrs. Martin (Elizabeth L. Barrett)',\n",
       " 'Hippach, Mrs. Louis Albert (Ida Sophia Fischer)',\n",
       " 'Goodwin, Mrs. Frederick (Augusta Tyler)',\n",
       " 'Potter, Mrs. Thomas Jr (Lily Alexenia Wilson)',\n",
       " 'Thorneycroft, Mrs. Percival (Florence Kate White)',\n",
       " 'Skoog, Mrs. William (Anna Bernhardina Karlsson)',\n",
       " 'Robert, Mrs. Edward Scott (Elisabeth Walton McMillan)',\n",
       " 'Mayne, Mlle. Berthe Antonine (\"Mrs de Villiers\")',\n",
       " 'Holverson, Mrs. Alexander Oskar (Mary Aline Towner)',\n",
       " 'Hewlett, Mrs. (Mary D Kingcome) ',\n",
       " 'Futrelle, Mrs. Jacques Heath (Lily May Peel)',\n",
       " 'Jerwan, Mrs. Amin S (Marie Marthe Thuillard)',\n",
       " 'Quick, Mrs. Frederick Charles (Jane Richards)',\n",
       " 'Palsson, Mrs. Nils (Alma Cornelia Berglund)',\n",
       " 'Nasser, Mrs. Nicholas (Adele Achem)',\n",
       " 'Abelson, Mrs. Samuel (Hannah Wizosky)',\n",
       " 'Hart, Mrs. Benjamin (Esther Ada Bloomfield)',\n",
       " 'de Messemaeker, Mrs. Guillaume Joseph (Emma)',\n",
       " 'Lemore, Mrs. (Amelia Milley)',\n",
       " 'Taussig, Mrs. Emil (Tillie Mandelbaum)',\n",
       " 'Chambers, Mrs. Norman Campbell (Bertha Griggs)',\n",
       " 'Graham, Mrs. William Thompson (Edith Junkins)',\n",
       " 'Penasco y Castellana, Mrs. Victor de Satode (Maria Josefa Perez de Soto y Vallejo)',\n",
       " 'Danbom, Mrs. Ernst Gilbert (Anna Sigrid Maria Brogren)',\n",
       " 'Van Impe, Mrs. Jean Baptiste (Rosalie Paula Govaert)',\n",
       " 'Baclini, Mrs. Solomon (Latifa Qurban)',\n",
       " 'Moor, Mrs. (Beila)',\n",
       " 'Hakkarainen, Mrs. Pekka Pietari (Elin Matilda Dolck)',\n",
       " 'Trout, Mrs. William H (Jessie L)',\n",
       " 'Touma, Mrs. Darwis (Hanne Youssef Razi)',\n",
       " 'Wick, Mrs. George Dennick (Mary Hitchcock)',\n",
       " 'Pinsky, Mrs. (Rosa)',\n",
       " 'Panula, Mrs. Juha (Maria Emilia Ojala)',\n",
       " 'Swift, Mrs. Frederick Joel (Margaret Welles Barron)',\n",
       " 'Lobb, Mrs. William Arthur (Cordelia K Stanlick)',\n",
       " 'Richards, Mrs. Sidney (Emily Hocking)',\n",
       " 'Brown, Mrs. James Joseph (Margaret Tobin)',\n",
       " 'Faunthorpe, Mrs. Lizzie (Elizabeth Anne Wilkinson)',\n",
       " 'Pears, Mrs. Thomas (Edith Wearne)',\n",
       " 'Johnson, Mrs. Oscar W (Elisabeth Vilhelmina Berg)',\n",
       " 'Appleton, Mrs. Edward Dale (Charlotte Lamson)',\n",
       " 'Andersson, Mrs. Anders Johan (Alfrida Konstantia Brogren)',\n",
       " 'Morley, Mr. Henry Samuel (\"Mr Henry Marshall\")',\n",
       " 'Andersson, Mr. August Edvard (\"Wennerstrom\")',\n",
       " 'O\\'Brien, Mrs. Thomas (Johanna \"Hannah\" Godfrey)',\n",
       " 'Rothes, the Countess. of (Lucy Noel Martha Dyer-Edwards)',\n",
       " 'Laroche, Mrs. Joseph (Juliette Marie Louise Lafargue)',\n",
       " 'Abbott, Mrs. Stanton (Rosa Hunt)',\n",
       " 'Meek, Mrs. Thomas (Annie Louise Rowley)',\n",
       " 'Aks, Mrs. Sam (Leah Rosen)',\n",
       " 'Hocking, Mrs. Elizabeth (Eliza Needs)',\n",
       " 'West, Mrs. Edwy Arthur (Ada Mary Worth)',\n",
       " 'Davison, Mrs. Thomas Henry (Mary E Finck)',\n",
       " 'Herman, Mrs. Samuel (Jane Laver)',\n",
       " 'Duff Gordon, Lady. (Lucille Christiana Sutherland) (\"Mrs Morgan\")',\n",
       " 'Silvey, Mrs. William Baird (Alice Munger)',\n",
       " 'Backstrom, Mrs. Karl Alfred (Maria Mathilda Gustafsson)',\n",
       " 'Leeni, Mr. Fahim (\"Philip Zenni\")',\n",
       " 'Beane, Mrs. Edward (Ethel Clarke)',\n",
       " 'Doling, Mrs. John T (Ada Julia Bone)',\n",
       " 'Harris, Mrs. Henry Birkhardt (Irene Wallach)',\n",
       " 'Allison, Mrs. Hudson J C (Bessie Waldo Daniels)',\n",
       " 'Ahlin, Mrs. Johan (Johanna Persdotter Larsson)',\n",
       " 'Romaine, Mr. Charles Hallace (\"Mr C Rolmane\")',\n",
       " 'Carter, Mrs. William Ernest (Lucile Polk)',\n",
       " 'Harper, Mrs. Henry Sleeper (Myna Haxtun)',\n",
       " 'Strom, Mrs. Wilhelm (Elna Matilda Persson)',\n",
       " 'Renouf, Mrs. Peter Henry (Lillian Jefferys)',\n",
       " 'Watt, Mrs. James (Elizabeth \"Bessie\" Inglis Milne)',\n",
       " 'Cumings, Mrs. John Bradley (Florence Briggs Thayer)',\n",
       " 'Phillips, Miss. Kate Florence (\"Mrs Kate Louise Phillips Marshall\")',\n",
       " 'Warren, Mrs. Frank Manley (Anna Sophia Atkinson)',\n",
       " 'Meanwell, Miss. (Marion Ogden)',\n",
       " 'Jacobsohn, Mrs. Sidney Samuel (Amy Frances Christy)',\n",
       " 'Chibnall, Mrs. (Edith Martha Bowerman)',\n",
       " 'Beckwith, Mrs. Richard Leonard (Sallie Monypeny)',\n",
       " 'Astor, Mrs. John Jacob (Madeleine Talmadge Force)']"
      ]
     },
     "execution_count": 818,
     "metadata": {},
     "output_type": "execute_result"
    }
   ],
   "source": [
    "list(data.Name[data.Name.apply(lambda x: \"(\" in x)])"
   ]
  },
  {
   "cell_type": "markdown",
   "metadata": {},
   "source": [
    "## Feature Engineering"
   ]
  },
  {
   "cell_type": "markdown",
   "metadata": {},
   "source": [
    "### Name"
   ]
  },
  {
   "cell_type": "code",
   "execution_count": null,
   "metadata": {
    "ExecuteTime": {
     "end_time": "2019-11-21T07:19:51.899787Z",
     "start_time": "2019-11-21T07:19:51.876865Z"
    }
   },
   "outputs": [],
   "source": [
    "# Extracting the family name\n",
    "data[\"family_name\"] = data.Name.apply(lambda x: re.findall(\"(.*),\", x)[0])"
   ]
  },
  {
   "cell_type": "code",
   "execution_count": null,
   "metadata": {
    "ExecuteTime": {
     "end_time": "2019-11-21T07:21:44.791163Z",
     "start_time": "2019-11-21T07:21:44.768429Z"
    }
   },
   "outputs": [],
   "source": [
    "# Extracting title\n",
    "data[\"title\"] = data.Name.apply(lambda x: re.findall(\"(\\w*)\\.\", x)[0])"
   ]
  },
  {
   "cell_type": "code",
   "execution_count": null,
   "metadata": {
    "ExecuteTime": {
     "end_time": "2019-11-21T07:19:53.733850Z",
     "start_time": "2019-11-21T07:19:53.713539Z"
    }
   },
   "outputs": [],
   "source": [
    "# Extracting text between parenthesis\n",
    "parenthesis = data.Name.apply(lambda x: re.findall(\"\\((.*)\\)\", x))\n",
    "data[\"parenthesis\"] = parenthesis.apply(lambda x: x[0] if x else np.nan)"
   ]
  },
  {
   "cell_type": "code",
   "execution_count": null,
   "metadata": {
    "ExecuteTime": {
     "end_time": "2019-11-21T07:24:36.222063Z",
     "start_time": "2019-11-21T07:24:36.195002Z"
    }
   },
   "outputs": [],
   "source": [
    "# extracting the given name\n",
    "given_name = data.Name.apply(lambda x: re.findall(\"\\. (.+?)( \\(|$)\", x))\n",
    "data[\"given_name\"] = given_name.apply(lambda x: x[0][0] if x else np.nan)"
   ]
  },
  {
   "cell_type": "code",
   "execution_count": null,
   "metadata": {
    "ExecuteTime": {
     "end_time": "2019-11-21T07:27:18.369132Z",
     "start_time": "2019-11-21T07:27:18.346620Z"
    }
   },
   "outputs": [],
   "source": [
    "# cuotes\n",
    "cuotes = data.Name.apply(lambda x: re.findall('\\\"(.*)\\\"', x))\n",
    "data[\"cuotes\"] = cuotes.apply(lambda x: x[0] if x else np.nan)"
   ]
  }
 ],
 "metadata": {
  "kernelspec": {
   "display_name": "Python 3",
   "language": "python",
   "name": "python3"
  },
  "language_info": {
   "codemirror_mode": {
    "name": "ipython",
    "version": 3
   },
   "file_extension": ".py",
   "mimetype": "text/x-python",
   "name": "python",
   "nbconvert_exporter": "python",
   "pygments_lexer": "ipython3",
   "version": "3.7.4"
  },
  "toc": {
   "base_numbering": 1,
   "nav_menu": {},
   "number_sections": true,
   "sideBar": true,
   "skip_h1_title": true,
   "title_cell": "Table of Contents",
   "title_sidebar": "Contents",
   "toc_cell": false,
   "toc_position": {
    "height": "calc(100% - 180px)",
    "left": "10px",
    "top": "150px",
    "width": "324.729px"
   },
   "toc_section_display": true,
   "toc_window_display": true
  },
  "varInspector": {
   "cols": {
    "lenName": 16,
    "lenType": 16,
    "lenVar": 40
   },
   "kernels_config": {
    "python": {
     "delete_cmd_postfix": "",
     "delete_cmd_prefix": "del ",
     "library": "var_list.py",
     "varRefreshCmd": "print(var_dic_list())"
    },
    "r": {
     "delete_cmd_postfix": ") ",
     "delete_cmd_prefix": "rm(",
     "library": "var_list.r",
     "varRefreshCmd": "cat(var_dic_list()) "
    }
   },
   "types_to_exclude": [
    "module",
    "function",
    "builtin_function_or_method",
    "instance",
    "_Feature"
   ],
   "window_display": false
  }
 },
 "nbformat": 4,
 "nbformat_minor": 2
}
